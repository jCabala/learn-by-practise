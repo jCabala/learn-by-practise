{
 "cells": [
  {
   "cell_type": "markdown",
   "metadata": {},
   "source": [
    "# Implementing Haskell lists in Python\n",
    "\n",
    "We want to create a structure that lets us work with the lists in a Haskell style. It should support:\n",
    "\n",
    "1. head, tail, !!, take, iterate\n",
    "2. Infinite lists: repeat x, cycle [1, 2, 3]"
   ]
  },
  {
   "cell_type": "markdown",
   "metadata": {},
   "source": [
    "## Generators"
   ]
  },
  {
   "cell_type": "markdown",
   "metadata": {},
   "source": [
    "We will intoduce python generators as they will be a helpful tool for creating a list DS."
   ]
  },
  {
   "cell_type": "markdown",
   "metadata": {},
   "source": [
    "Python generators provide a way to create iterators in a more memory-efficient and \"lazy\" manner. Instead of holding an entire sequence in memory, a generator yields one item at a time only when needed. This makes generators particularly useful for working with large or potentially infinite sequences, as they generate values on demand rather than all at once.\n",
    "\n",
    "Here’s an example to illustrate the concept and benefits of using a generator.\n",
    "\n",
    "### Basic Example: Fibonacci Sequence\n",
    "Let’s create a generator function to yield numbers in the Fibonacci sequence. In the Fibonacci sequence, each number is the sum of the two preceding ones, starting with 0 and 1."
   ]
  },
  {
   "cell_type": "code",
   "execution_count": 1,
   "metadata": {},
   "outputs": [],
   "source": [
    "def fibonacci():\n",
    "    a, b = 0, 1\n",
    "    while True:\n",
    "        yield a\n",
    "        a, b = b, a + b\n"
   ]
  },
  {
   "cell_type": "markdown",
   "metadata": {},
   "source": [
    "Explanation:\n",
    "- yield produces a value (in this case, a) and pauses the function, allowing it to be resumed right where it left off when the next value is needed.\n",
    "- The function keeps yielding values indefinitely, allowing it to represent an \"infinite\" sequence.\n",
    "Unlike a list, this sequence doesn’t take up memory for all elements at once, as each value is computed only when requested."
   ]
  },
  {
   "cell_type": "code",
   "execution_count": 2,
   "metadata": {},
   "outputs": [
    {
     "name": "stdout",
     "output_type": "stream",
     "text": [
      "0\n",
      "1\n",
      "1\n",
      "2\n",
      "3\n",
      "5\n",
      "8\n",
      "13\n",
      "21\n",
      "34\n"
     ]
    }
   ],
   "source": [
    "fib = fibonacci()\n",
    "\n",
    "# Print the first 10 Fibonacci numbers\n",
    "for _ in range(10):\n",
    "    print(next(fib))  # Output: 0, 1, 1, 2, 3, 5, 8, 13, 21, 34"
   ]
  },
  {
   "cell_type": "markdown",
   "metadata": {},
   "source": [
    "Explanation of next(fib):\n",
    "- Calling next(fib) retrieves the next value from the generator fib.\n",
    "Each call to next() resumes the function from where it was paused and executes until the next yield statement.\n",
    "- If the generator finishes (doesn’t yield anymore), a StopIteration exception is raised, signaling the end of the sequence. Since our Fibonacci generator has a while True loop, it’s designed to be infinite."
   ]
  },
  {
   "cell_type": "markdown",
   "metadata": {},
   "source": [
    "### Inline generators\n",
    "More Complex Example: Generator Expressions\n",
    "Python also supports a syntax for inline generators called generator expressions, which are similar to list comprehensions but use parentheses instead of square brackets.\n",
    "\n",
    "For example, to generate the squares of numbers up to 10:"
   ]
  },
  {
   "cell_type": "code",
   "execution_count": 3,
   "metadata": {},
   "outputs": [
    {
     "name": "stdout",
     "output_type": "stream",
     "text": [
      "0\n",
      "1\n",
      "[4, 9, 16, 25, 36, 49, 64, 81]\n"
     ]
    }
   ],
   "source": [
    "squares = (x * x for x in range(10))\n",
    "print(next(squares))  # Output: 0\n",
    "print(next(squares))  # Output: 1\n",
    "print(list(squares))  # Output: [4, 9, 16, 25, 36, 49, 64, 81]"
   ]
  },
  {
   "cell_type": "markdown",
   "metadata": {},
   "source": [
    "### islice\n",
    "`islice` is a function from Python’s itertools module that allows you to slice an iterable, such as a list, generator, or other iterator, without having to convert it into a list. It’s especially useful when working with generators or other infinite sequences, as it allows you to select a subset of items from the sequence without generating the entire sequence in memory.\n",
    "\n",
    "Basic Syntax of `islice`"
   ]
  },
  {
   "cell_type": "code",
   "execution_count": 4,
   "metadata": {},
   "outputs": [
    {
     "name": "stdout",
     "output_type": "stream",
     "text": [
      "5th to 15th Fibonacci numbers: [5, 8, 13, 21, 34, 55, 89, 144, 233, 377]\n"
     ]
    }
   ],
   "source": [
    "from itertools import islice\n",
    "# Reset the generator\n",
    "fib_gen1 = fibonacci()\n",
    "fib_gen2 = fibonacci()\n",
    "fib_gen3 = fibonacci()\n",
    "\n",
    "# Slice from the 5th to the 15th Fibonacci numbers\n",
    "fib_slice1 = list(islice(fib_gen1, 10))\n",
    "fib_slice2 = list(islice(fib_gen2, 5, 15))\n",
    "fib_slice3 = list(islice(fib_gen3, 5, 15, 2))\n",
    "\n",
    "print(\"First 10 Fibonacci numbers:\", fib_slice1)\n",
    "print(\"5th to 15th Fibonacci numbers:\", fib_slice2)\n",
    "print(\"Every 2nd Fibonacci number from 5th to 15th:\", fib_slice3)"
   ]
  },
  {
   "cell_type": "markdown",
   "metadata": {},
   "source": [
    "# The DS"
   ]
  },
  {
   "cell_type": "code",
   "execution_count": 6,
   "metadata": {},
   "outputs": [],
   "source": [
    "\n",
    "from itertools import islice\n",
    "from typing import Generator, Any, Callable, Iterable\n",
    "\n",
    "class HaskellList:\n",
    "    def __init__(self, generator: Callable[[], Generator[Any, None, None]]):\n",
    "        \"\"\"Initialize the HaskellList with a generator function for lazy evaluation.\"\"\"\n",
    "        self.generator_func = generator\n",
    "\n",
    "    def generator(self):\n",
    "        \"\"\"Creates a new generator instance each time the list is accessed.\"\"\"\n",
    "        return self.generator_func()\n",
    "\n",
    "    @staticmethod\n",
    "    def from_list(lst: Iterable):\n",
    "        \"\"\"Corresponds to Haskell's finite list constructor (e.g., [1, 2, 3]).\"\"\"\n",
    "        def generator():\n",
    "            yield 1 # @TODO\n",
    "        return HaskellList(generator)\n",
    "\n",
    "    @staticmethod\n",
    "    def repeat(value: Any):\n",
    "        \"\"\"Corresponds to Haskell's `repeat x`, creating an infinite list of x (e.g., repeat 3).\"\"\"\n",
    "        def generator():\n",
    "            yield 1 # @TODO\n",
    "        return HaskellList(generator)\n",
    "\n",
    "    @staticmethod\n",
    "    def cycle(lst: Iterable):\n",
    "        \"\"\"Corresponds to Haskell's `cycle [1, 2, 3]`, creating an infinite list by cycling through a finite list.\"\"\"\n",
    "        def generator():\n",
    "            yield 1 # @TODO\n",
    "        return HaskellList(generator)\n",
    "\n",
    "    @staticmethod\n",
    "    def iterate(func: Callable[[Any], Any], start: Any):\n",
    "        \"\"\"Corresponds to Haskell's `iterate f x`, producing an infinite list by applying f repeatedly to x.\"\"\"\n",
    "        def generator():\n",
    "            yield 1 # @TODO\n",
    "        return HaskellList(generator)\n",
    "\n",
    "    def cons(self, value: Any):\n",
    "        \"\"\"Corresponds to Haskell's `x : xs` syntax, which prepends an element to the front of the list.\"\"\"\n",
    "        def generator():\n",
    "            yield 1 # @TODO\n",
    "        return HaskellList(generator)\n",
    "\n",
    "    def head(self) -> Any:\n",
    "        \"\"\"Corresponds to Haskell's `head xs`, returning the first element of the list.\"\"\"\n",
    "        return False #@TODO\n",
    "\n",
    "    def tail(self):\n",
    "        \"\"\"Corresponds to Haskell's `tail xs`, returning all elements except the first.\"\"\"\n",
    "        def generator():\n",
    "            yield 1 # @TODO\n",
    "        return HaskellList(generator)\n",
    "\n",
    "    def index(self, n: int) -> Any:\n",
    "        \"\"\"Corresponds to Haskell's `xs !! n`, which retrieves the nth element (0-indexed).\"\"\"\n",
    "        return []# @TODO\n",
    "\n",
    "    def take(self, n: int):\n",
    "        \"\"\"Corresponds to Haskell's `take n xs`, which takes the first n elements of a list.\"\"\"\n",
    "        return [] # @TODO\n",
    "\n",
    "    def __getitem__(self, n: int) -> Any:\n",
    "        \"\"\"Override for `xs !! n` indexing syntax (list[index]).\"\"\"\n",
    "        return self.index(n)\n",
    "\n",
    "    def __iter__(self):\n",
    "        \"\"\"Allows iteration over the HaskellList, corresponding to regular Haskell list evaluation.\"\"\"\n",
    "        return self.generator()\n",
    "\n",
    "    def __repr__(self):\n",
    "        \"\"\"Provides a display similar to Haskell's list syntax for easier visualization.\"\"\"\n",
    "        return \"HaskellList(\" + \", \".join(map(str, self.take(10))) + \" ...)\""
   ]
  },
  {
   "cell_type": "code",
   "execution_count": 8,
   "metadata": {},
   "outputs": [
    {
     "name": "stdout",
     "output_type": "stream",
     "text": [
      "1\n"
     ]
    },
    {
     "data": {
      "text/plain": [
       "''"
      ]
     },
     "execution_count": 8,
     "metadata": {},
     "output_type": "execute_result"
    }
   ],
   "source": [
    "# Examples of usage:\n",
    "\n",
    "# Creating a finite HaskellList\n",
    "finite_list = HaskellList.from_list([1, 2, 3, 4, 5])\n",
    "print(finite_list.head())   # Output: 1\n",
    "\n",
    "\"\"\"print(finite_list.tail())   # Output: HaskellList(2, 3, 4, 5 ...)\n",
    "print(finite_list.index(2)) # Output: 3\n",
    "print(finite_list.take(3))  # Output: [1, 2, 3]\n",
    "\n",
    "# Infinite lists\n",
    "infinite_list = HaskellList.repeat(1)\n",
    "print(infinite_list.take(5))  # Output: [1, 1, 1, 1, 1]\n",
    "\n",
    "cycled_list = HaskellList.cycle([1, 2, 3])\n",
    "print(cycled_list.take(7))    # Output: [1, 2, 3, 1, 2, 3, 1]\n",
    "\n",
    "iterated_list = HaskellList.iterate(lambda x: x + 1, 0)\n",
    "print(iterated_list.take(5))  # Output: [0, 1, 2, 3, 4]\n",
    "\n",
    "# Using cons\n",
    "new_list = finite_list.cons(0)\n",
    "print(new_list.take(6))       # Output: [0, 1, 2, 3, 4, 5]\"\"\"\n",
    "\n",
    "\"\""
   ]
  },
  {
   "cell_type": "markdown",
   "metadata": {},
   "source": [
    "# Higher order functions with lists"
   ]
  }
 ],
 "metadata": {
  "kernelspec": {
   "display_name": "Python 3",
   "language": "python",
   "name": "python3"
  },
  "language_info": {
   "codemirror_mode": {
    "name": "ipython",
    "version": 3
   },
   "file_extension": ".py",
   "mimetype": "text/x-python",
   "name": "python",
   "nbconvert_exporter": "python",
   "pygments_lexer": "ipython3",
   "version": "3.10.12"
  }
 },
 "nbformat": 4,
 "nbformat_minor": 2
}
