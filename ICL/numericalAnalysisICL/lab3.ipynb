{
 "cells": [
  {
   "cell_type": "markdown",
   "metadata": {},
   "source": [
    "# MATH50003 (2023–24)\n",
    "# Lab 3: II.1 Integers and II.2 Reals"
   ]
  },
  {
   "cell_type": "markdown",
   "metadata": {},
   "source": [
    "In this lab, we will explore how a computer represents integers (both signed and unsigned) and reals.\n",
    "In particular, its usage of modular and floating point arithmetic."
   ]
  },
  {
   "cell_type": "markdown",
   "metadata": {},
   "source": [
    "**Learning Outcomes**\n",
    "\n",
    "Mathematical knowledge:\n",
    "\n",
    "1. Behaviour of modular arithmetic for signed and unsigned integers.\n",
    "2. Binary and hexadecimal integer formats.\n",
    "3. Overflow behaviour for integers.\n",
    "\n",
    "Coding knowledge:\n",
    "\n",
    "1. Creating numbers with different formats via `UInt8`, `Float16`, etc.\n",
    "2. The `sizeof`, `reinterpret`, `parse`, `typemax`, `bitstring`, and `printbits` functions\n",
    "3. String construction and concatenation via `*`.\n",
    "4. Creating floating point numbers by specifying their bits."
   ]
  },
  {
   "cell_type": "markdown",
   "metadata": {},
   "source": [
    "We load an external `ColorBitstring` package\n",
    "which implements functions `printbits` (and `printlnbits`)\n",
    "to print the bits (and with a newline) of numbers in colour:"
   ]
  },
  {
   "cell_type": "code",
   "execution_count": 1,
   "metadata": {},
   "outputs": [],
   "source": [
    "using ColorBitstring, Test"
   ]
  },
  {
   "cell_type": "markdown",
   "metadata": {},
   "source": [
    "If this fails you may need to call `] add ColorBitstring`."
   ]
  },
  {
   "cell_type": "markdown",
   "metadata": {},
   "source": [
    "## II.1 Integers"
   ]
  },
  {
   "cell_type": "markdown",
   "metadata": {},
   "source": [
    "We now explore the representation and behaviour of integers in Julia,\n",
    "which is identical to other compiled languages like C, Swift, Rust, etc.\n",
    "The basic integer type, which is constructed when we write say `5` is\n",
    "the signed integer type `Int`:"
   ]
  },
  {
   "cell_type": "code",
   "execution_count": 2,
   "metadata": {},
   "outputs": [
    {
     "data": {
      "text/plain": [
       "Int64"
      ]
     },
     "metadata": {},
     "output_type": "display_data"
    }
   ],
   "source": [
    "typeof(5)"
   ]
  },
  {
   "cell_type": "markdown",
   "metadata": {},
   "source": [
    "On a 64-bit machine this will return `Int64` indicating it is using 64-bits.\n",
    "(It's possible your machine is 32-bit in which case this will be `Int32`.)\n",
    "But other integer types exist, in particular for unsigned integers and for\n",
    "different number of bits."
   ]
  },
  {
   "cell_type": "markdown",
   "metadata": {},
   "source": [
    "Every primitive number type is stored as a sequence of bits.\n",
    "The number of _bytes_ (i.e. 8-bits) can be deduced using the `sizeof` function:"
   ]
  },
  {
   "cell_type": "code",
   "execution_count": 3,
   "metadata": {},
   "outputs": [
    {
     "data": {
      "text/plain": [
       "8"
      ]
     },
     "metadata": {},
     "output_type": "display_data"
    }
   ],
   "source": [
    "sizeof(Int64) # 8 bytes == 8*8 bits == 64 bits"
   ]
  },
  {
   "cell_type": "markdown",
   "metadata": {},
   "source": [
    "We will use the `printbits` command provided by `ColorBitstring` to see what bits\n",
    "are actually stored, eg."
   ]
  },
  {
   "cell_type": "code",
   "execution_count": 4,
   "metadata": {},
   "outputs": [
    {
     "name": "stdout",
     "output_type": "stream",
     "text": [
      "\u001b[31m0\u001b[0m\u001b[34m000000000000000000000000000000000000000000000000000000000000101\u001b[0m"
     ]
    }
   ],
   "source": [
    "printbits(5)"
   ]
  },
  {
   "cell_type": "markdown",
   "metadata": {},
   "source": [
    "### II.1.1 Unsigned integers"
   ]
  },
  {
   "cell_type": "markdown",
   "metadata": {},
   "source": [
    "Unsigned integers are used to represent non-negative integers. In Julia\n",
    "these correspond to types `UInt8`, `UInt16`, etc. where the number indicates\n",
    "the number of bits. The easiest way to create such an integer is to convert\n",
    "from an `Int`:"
   ]
  },
  {
   "cell_type": "code",
   "execution_count": 5,
   "metadata": {},
   "outputs": [
    {
     "data": {
      "text/plain": [
       "0x05"
      ]
     },
     "metadata": {},
     "output_type": "display_data"
    }
   ],
   "source": [
    "UInt8(5) # creates an Int and converts it to an UInt8"
   ]
  },
  {
   "cell_type": "markdown",
   "metadata": {},
   "source": [
    "displaying the result in hex"
   ]
  },
  {
   "cell_type": "markdown",
   "metadata": {},
   "source": [
    "This fails if a number cannot be represented as a specified type:\n",
    "e.g. `UInt8(-5)` and `UInt8(2^8)`."
   ]
  },
  {
   "cell_type": "markdown",
   "metadata": {},
   "source": [
    "(These can also be written as e.g. `convert(UInt8, 5)`.)\n",
    "We can also create unsigned integers by specifying their bits\n",
    "by writing `0b` followed by a sequence of bits:"
   ]
  },
  {
   "cell_type": "code",
   "execution_count": 7,
   "metadata": {},
   "outputs": [
    {
     "data": {
      "text/plain": [
       "0x05"
      ]
     },
     "metadata": {},
     "output_type": "display_data"
    }
   ],
   "source": [
    "0b101 # creates an UInt8, the smallest type with at least 3 bits"
   ]
  },
  {
   "cell_type": "code",
   "execution_count": 8,
   "metadata": {},
   "outputs": [
    {
     "data": {
      "text/plain": [
       "0x05dd"
      ]
     },
     "metadata": {},
     "output_type": "display_data"
    }
   ],
   "source": [
    "0b10111011101 # creates an UInt16, the smallest type with at least 11 bits"
   ]
  },
  {
   "cell_type": "markdown",
   "metadata": {},
   "source": [
    "-----\n",
    "**Problem 1(a)** Use binary format to create an `UInt32` corresponding to $(101101)_2$."
   ]
  },
  {
   "cell_type": "code",
   "execution_count": 13,
   "metadata": {},
   "outputs": [
    {
     "data": {
      "text/plain": [
       "UInt32"
      ]
     },
     "metadata": {},
     "output_type": "display_data"
    }
   ],
   "source": [
    "x = 0b00000000000000000000000000101101\n",
    "typeof(x)\n"
   ]
  },
  {
   "cell_type": "markdown",
   "metadata": {},
   "source": [
    "-----"
   ]
  },
  {
   "cell_type": "markdown",
   "metadata": {},
   "source": [
    "Integers use modular arithmetic for addition, subtraction and multiplication:"
   ]
  },
  {
   "cell_type": "code",
   "execution_count": 14,
   "metadata": {},
   "outputs": [
    {
     "name": "stdout",
     "output_type": "stream",
     "text": [
      "\u001b[34m00010001\u001b[0m + \n",
      "\u001b[34m00000011\u001b[0m = \n",
      "\u001b[34m00010100\u001b[0m\n",
      "\u001b[34m00010001\u001b[0m - \n",
      "\u001b[34m00000011\u001b[0m = \n",
      "\u001b[34m00001110\u001b[0m"
     ]
    }
   ],
   "source": [
    "x = UInt8(17)  # An 8-bit representation of the number 17, i.e. with bits 00010001\n",
    "y = UInt8(3)   # An 8-bit representation of the number   3, i.e. with bits 00000011\n",
    "printbits(x); println(\" + \"); printbits(y); println(\" = \")\n",
    "printlnbits(x + y) # + is automatically modular arithmetic\n",
    "printbits(x); println(\" - \"); printbits(y); println(\" = \")\n",
    "printbits(x - y) # - is automatically modular arithmetic"
   ]
  },
  {
   "cell_type": "markdown",
   "metadata": {},
   "source": [
    "If we go past the largest integer we overflow and wrap around:"
   ]
  },
  {
   "cell_type": "code",
   "execution_count": null,
   "metadata": {},
   "outputs": [],
   "source": [
    "x = UInt8(255) # An 8-bit representation of the number 255, i.e. with bits 11111111\n",
    "y = UInt8(1)   # An 8-bit representation of the number   1, i.e. with bits 00000001\n",
    "printbits(x); println(\" + \"); printbits(y); println(\" = \")\n",
    "printbits(x + y) # + is automatically modular arithmetic"
   ]
  },
  {
   "cell_type": "markdown",
   "metadata": {},
   "source": [
    "A similar phenomena happens with subtraction:"
   ]
  },
  {
   "cell_type": "code",
   "execution_count": null,
   "metadata": {},
   "outputs": [],
   "source": [
    "x = UInt8(3) # An 8-bit representation of the number   3, i.e. with bits 00000011\n",
    "y = UInt8(5) # An 8-bit representation of the number   5, i.e. with bits 00000101\n",
    "printbits(x); println(\" - \"); printbits(y); println(\" = \")\n",
    "printbits(x - y) # - is automatically modular arithmetic"
   ]
  },
  {
   "cell_type": "markdown",
   "metadata": {},
   "source": [
    "Multiplication also works similarly. Multiplication by two shifts bits by\n",
    "one and modular arithmetic just drops extra bits so we have the following behaviour:"
   ]
  },
  {
   "cell_type": "code",
   "execution_count": null,
   "metadata": {},
   "outputs": [],
   "source": [
    "x = UInt8(254) # An 8-bit representation of the number 254, i.e. with bits 11111110\n",
    "y = UInt8(2)   # An 8-bit representation of the number   2, i.e. with bits 00000010\n",
    "printbits(x); println(\" * \"); printbits(y); println(\" = \")\n",
    "printbits(x * y) # represents 252"
   ]
  },
  {
   "cell_type": "markdown",
   "metadata": {},
   "source": [
    "### II.1.2 Signed integers"
   ]
  },
  {
   "cell_type": "markdown",
   "metadata": {},
   "source": [
    "Signed integers represent negative and non-negative integers, where\n",
    "if the first bit is `1` it is interpreted as a negative number, according to\n",
    "the 2's complement format. There are multiple types of signed integers including\n",
    "`Int8`, `Int16`, `Int32`, and `Int64`. By default we create an `Int` but we can\n",
    "convert an `Int` to another signed integer type:"
   ]
  },
  {
   "cell_type": "code",
   "execution_count": null,
   "metadata": {},
   "outputs": [],
   "source": [
    "Int8(5) # display of Int8 does not reveal its type"
   ]
  },
  {
   "cell_type": "markdown",
   "metadata": {},
   "source": [
    "It prints the same as `5` but calling `typeof` will confirm it is indeed an `Int8`.\n",
    "We can use `printbits` to see the expected binary format, matching that of `UInt8(5)`:"
   ]
  },
  {
   "cell_type": "code",
   "execution_count": null,
   "metadata": {},
   "outputs": [],
   "source": [
    "printbits(Int8(5)) # 5 = 2^2 + 1"
   ]
  },
  {
   "cell_type": "markdown",
   "metadata": {},
   "source": [
    "Negative numbers use 2's complement, for example we have"
   ]
  },
  {
   "cell_type": "code",
   "execution_count": null,
   "metadata": {},
   "outputs": [],
   "source": [
    "printbits(Int8(-5)) # -5 mod 256 = 251 = 1 + 2 + 2^3 + 2^4 + 2^5 + 2^6 + 2^7"
   ]
  },
  {
   "cell_type": "markdown",
   "metadata": {},
   "source": [
    "We can use the `reinterpret` function to create an unsigned integer by\n",
    "specifying a sequence of bits and reinterpreting the bits as a signed integer:"
   ]
  },
  {
   "cell_type": "code",
   "execution_count": null,
   "metadata": {},
   "outputs": [],
   "source": [
    "reinterpret(Int8, 0b11111111) # Create an Int8 with the bits 11111111"
   ]
  },
  {
   "cell_type": "markdown",
   "metadata": {},
   "source": [
    "This is different from conversion via `Int8(0b11111111)` (which throws an error):\n",
    "`0b11111111` represents the (unsigned) integer $2^8-1 = 255$ and hence\n",
    "`Int8(0b11111111)` is equivalent to `Int8(UInt8(255))`. Since `255` is larger than\n",
    "the largest `Int8` (which is $2^7-1 = 127$) it would throw an error."
   ]
  },
  {
   "cell_type": "markdown",
   "metadata": {},
   "source": [
    "-----"
   ]
  },
  {
   "cell_type": "markdown",
   "metadata": {},
   "source": [
    "**Problem 2(a)** Construct an `Int8` representing the number $-63$ by specifying its\n",
    "bits and using `reinterpret`."
   ]
  },
  {
   "cell_type": "code",
   "execution_count": 28,
   "metadata": {},
   "outputs": [
    {
     "data": {
      "text/plain": [
       "-63"
      ]
     },
     "metadata": {},
     "output_type": "display_data"
    }
   ],
   "source": [
    "# TODO: Create an unsigned integer with 8 bits and reinterpret to get Int8(-63)\n",
    "reinterpret(Int8, 0b11000001)"
   ]
  },
  {
   "cell_type": "markdown",
   "metadata": {},
   "source": [
    "**Problem 2(b)** Can you predict what the output of the following will be before hitting return?\n",
    "Check that you are correct."
   ]
  },
  {
   "cell_type": "code",
   "execution_count": 30,
   "metadata": {},
   "outputs": [
    {
     "data": {
      "text/plain": [
       "0x82"
      ]
     },
     "metadata": {},
     "output_type": "display_data"
    }
   ],
   "source": [
    "UInt8(120) + UInt8(10) # Convert to Int to see the number printed in decimal"
   ]
  },
  {
   "cell_type": "code",
   "execution_count": 29,
   "metadata": {},
   "outputs": [
    {
     "data": {
      "text/plain": [
       "-126"
      ]
     },
     "metadata": {},
     "output_type": "display_data"
    }
   ],
   "source": [
    "Int8(120) + Int8(10)"
   ]
  },
  {
   "cell_type": "code",
   "execution_count": 31,
   "metadata": {},
   "outputs": [
    {
     "data": {
      "text/plain": [
       "0x80"
      ]
     },
     "metadata": {},
     "output_type": "display_data"
    }
   ],
   "source": [
    "UInt8(2)^7"
   ]
  },
  {
   "cell_type": "code",
   "execution_count": 33,
   "metadata": {},
   "outputs": [
    {
     "data": {
      "text/plain": [
       "-128"
      ]
     },
     "metadata": {},
     "output_type": "display_data"
    }
   ],
   "source": [
    "Int8(2)^7"
   ]
  },
  {
   "cell_type": "code",
   "execution_count": 32,
   "metadata": {},
   "outputs": [
    {
     "data": {
      "text/plain": [
       "0"
      ]
     },
     "metadata": {},
     "output_type": "display_data"
    }
   ],
   "source": [
    "Int8(2)^8"
   ]
  },
  {
   "cell_type": "markdown",
   "metadata": {},
   "source": [
    "### Strings and parsing"
   ]
  },
  {
   "cell_type": "markdown",
   "metadata": {},
   "source": [
    "Strings are a convenient way of representing arbitrary strings of digits:\n",
    "we can convert bits of a number to a string of \"1\"s and \"0\"s\n",
    "using the function `bitstring`. For example:"
   ]
  },
  {
   "cell_type": "code",
   "execution_count": 34,
   "metadata": {},
   "outputs": [
    {
     "data": {
      "text/plain": [
       "\"00000101\""
      ]
     },
     "metadata": {},
     "output_type": "display_data"
    }
   ],
   "source": [
    "bitstring(Int8(5))"
   ]
  },
  {
   "cell_type": "markdown",
   "metadata": {},
   "source": [
    "Whereas `printbits` prints the bits, this actually returns a string\n",
    "that can further be manipulated."
   ]
  },
  {
   "cell_type": "markdown",
   "metadata": {},
   "source": [
    "-----"
   ]
  },
  {
   "cell_type": "markdown",
   "metadata": {},
   "source": [
    "**Problem 3(a)** Can you predict what the output of the following will be before hitting return?"
   ]
  },
  {
   "cell_type": "code",
   "execution_count": 35,
   "metadata": {},
   "outputs": [
    {
     "data": {
      "text/plain": [
       "\"0000000000000000000000000000000000000000000000000000000000001011\""
      ]
     },
     "metadata": {},
     "output_type": "display_data"
    }
   ],
   "source": [
    "bitstring(11)"
   ]
  },
  {
   "cell_type": "code",
   "execution_count": 36,
   "metadata": {},
   "outputs": [
    {
     "data": {
      "text/plain": [
       "\"1111111111111111111111111111111111111111111111111111111111110101\""
      ]
     },
     "metadata": {},
     "output_type": "display_data"
    }
   ],
   "source": [
    "bitstring(-11)"
   ]
  },
  {
   "cell_type": "markdown",
   "metadata": {},
   "source": [
    "-----"
   ]
  },
  {
   "cell_type": "markdown",
   "metadata": {},
   "source": [
    "We can `parse` a string of digits in base 2 or 10:"
   ]
  },
  {
   "cell_type": "code",
   "execution_count": 37,
   "metadata": {},
   "outputs": [
    {
     "data": {
      "text/plain": [
       "(3, 11)"
      ]
     },
     "metadata": {},
     "output_type": "display_data"
    }
   ],
   "source": [
    "parse(Int8, \"11\"; base=2), # represents 2 + 1 = 3 as an Int8\n",
    "parse(Int8, \"00001011\"; base=2) # represents 2^3 + 2 + 1 = 11 as an Int8"
   ]
  },
  {
   "cell_type": "markdown",
   "metadata": {},
   "source": [
    "Be careful with \"negative\" numbers, the following will fail: `parse(Int8, \"10001011\"; base=2)`"
   ]
  },
  {
   "cell_type": "markdown",
   "metadata": {},
   "source": [
    "It treats the string as binary digits, NOT bits. That is, negative numbers\n",
    "are represented using the minus sign:"
   ]
  },
  {
   "cell_type": "code",
   "execution_count": 38,
   "metadata": {},
   "outputs": [
    {
     "data": {
      "text/plain": [
       "-11"
      ]
     },
     "metadata": {},
     "output_type": "display_data"
    }
   ],
   "source": [
    "parse(Int8, \"-00001011\"; base=2)"
   ]
  },
  {
   "cell_type": "markdown",
   "metadata": {},
   "source": [
    "-----"
   ]
  },
  {
   "cell_type": "markdown",
   "metadata": {},
   "source": [
    "**Problem 3(b)** Combine `parse`, `reinterpret`, and `UInt8` to convert the\n",
    "above string to a (negative) `Int8` with the specified bits."
   ]
  },
  {
   "cell_type": "code",
   "execution_count": 40,
   "metadata": {},
   "outputs": [
    {
     "data": {
      "text/plain": [
       "\"10001011\""
      ]
     },
     "metadata": {},
     "output_type": "display_data"
    }
   ],
   "source": [
    "# TODO: combine parse and reinterpret\n",
    "x = reinterpret(Int8, parse(UInt8, \"10001011\"; base=2)) # -117\n",
    "bitstring(x)"
   ]
  },
  {
   "cell_type": "markdown",
   "metadata": {},
   "source": [
    "-----"
   ]
  },
  {
   "cell_type": "markdown",
   "metadata": {},
   "source": [
    "To concatenate strings we can use `*` (multiplication is used because string concatenation\n",
    "is non-commutative):"
   ]
  },
  {
   "cell_type": "code",
   "execution_count": 39,
   "metadata": {},
   "outputs": [
    {
     "data": {
      "text/plain": [
       "\"hibye\""
      ]
     },
     "metadata": {},
     "output_type": "display_data"
    }
   ],
   "source": [
    "\"hi\" * \"bye\""
   ]
  },
  {
   "cell_type": "markdown",
   "metadata": {},
   "source": [
    "The string consisting of the first nine characters can be found using `str[1:9]` where `str` is any string:"
   ]
  },
  {
   "cell_type": "code",
   "execution_count": 41,
   "metadata": {},
   "outputs": [
    {
     "data": {
      "text/plain": [
       "\"hibye0123\""
      ]
     },
     "metadata": {},
     "output_type": "display_data"
    }
   ],
   "source": [
    "str = \"hibye0123445556\"\n",
    "str[1:9]  # returns \"hibye0123\""
   ]
  },
  {
   "cell_type": "markdown",
   "metadata": {},
   "source": [
    "The string consisting of the 11th through last character can be found using `str[11:end]`:"
   ]
  },
  {
   "cell_type": "code",
   "execution_count": 42,
   "metadata": {},
   "outputs": [
    {
     "data": {
      "text/plain": [
       "\"45556\""
      ]
     },
     "metadata": {},
     "output_type": "display_data"
    }
   ],
   "source": [
    "str = \"hibye0123445556\"\n",
    "str[11:end]  # returns \"45556\""
   ]
  },
  {
   "cell_type": "markdown",
   "metadata": {},
   "source": [
    "We can combine string manipulation with `bitstring` and `parse` to manipulate bits.\n",
    "For example, we can see which `Int8` has the same bits as `Int8(5)` but with the third bit\n",
    "set to 1."
   ]
  },
  {
   "cell_type": "code",
   "execution_count": 43,
   "metadata": {},
   "outputs": [
    {
     "data": {
      "text/plain": [
       "37"
      ]
     },
     "metadata": {},
     "output_type": "display_data"
    }
   ],
   "source": [
    "str = bitstring(Int8(5)) # string of bits for 5, eg  \"00000101\"\n",
    "tru = str[4:end] # drop first four characters of the string, eg \"000101\"\n",
    "swa = str[1:2] * \"1\" * tru # add the character \"1\" at the third position, eg \"00100101\"\n",
    "parse(Int8, swa; base=2) # answer is 37 = 5 + 2^5"
   ]
  },
  {
   "cell_type": "markdown",
   "metadata": {},
   "source": [
    "-----"
   ]
  },
  {
   "cell_type": "markdown",
   "metadata": {},
   "source": [
    "**Problem 3(c)** Complete the following function that sets the 10th bit of an `Int32` to `1`,\n",
    "and returns an `Int32`, assuming that the input is a positive integer, using `bitstring`,\n",
    "`parse` and `*`."
   ]
  },
  {
   "cell_type": "code",
   "execution_count": 44,
   "metadata": {},
   "outputs": [
    {
     "data": {
      "text/plain": [
       "\u001b[32m\u001b[1mTest Passed\u001b[22m\u001b[39m\n",
       "  Expression: tenthbitto1(Int32(100)) ≡ Int32(4194404)\n",
       "   Evaluated: 4194404 ≡ 4194404"
      ]
     },
     "metadata": {},
     "output_type": "display_data"
    }
   ],
   "source": [
    "function tenthbitto1(x::Int32)\n",
    "    # TODO: change the 10th bit of x to 1\n",
    "    parse(Int32, bitstring(x)[1:9] * \"1\" * bitstring(x)[11:end]; base=2)\n",
    "end\n",
    "\n",
    "@test tenthbitto1(Int32(100)) ≡ Int32(4194404)"
   ]
  },
  {
   "cell_type": "markdown",
   "metadata": {},
   "source": [
    "### II.1.3 Hexadecimal and binary format"
   ]
  },
  {
   "cell_type": "markdown",
   "metadata": {},
   "source": [
    "In Julia unsigned integers are displayed in hexadecimal\n",
    "form: that is, in base-16.\n",
    "Since there are only 10 standard digits (`0-9`) it uses 6 letters (`a–f`) to represent\n",
    "11–16. For example,"
   ]
  },
  {
   "cell_type": "code",
   "execution_count": 45,
   "metadata": {},
   "outputs": [
    {
     "data": {
      "text/plain": [
       "0xfa"
      ]
     },
     "metadata": {},
     "output_type": "display_data"
    }
   ],
   "source": [
    "UInt8(250)"
   ]
  },
  {
   "cell_type": "markdown",
   "metadata": {},
   "source": [
    "because `f` corresponds to 15 and `a` corresponds to 10, and we have\n",
    "$$\n",
    "15 * 16 + 10 = 250.\n",
    "$$\n",
    "The reason for this is that each hex-digit encodes 4 bits (since 4 bits have $2^4 = 16$ possible\n",
    "values) and hence two hex-digits are encode 1 byte, and thus the digits correspond\n",
    "exactly with how memory is divided into addresses.\n",
    "We can create unsigned integers either by specifying their hex format:"
   ]
  },
  {
   "cell_type": "code",
   "execution_count": 46,
   "metadata": {},
   "outputs": [
    {
     "data": {
      "text/plain": [
       "0xfa"
      ]
     },
     "metadata": {},
     "output_type": "display_data"
    }
   ],
   "source": [
    "0xfa"
   ]
  },
  {
   "cell_type": "markdown",
   "metadata": {},
   "source": [
    "Alternatively, we can specify their digits.\n",
    "For example, we know $(f)_{16} = 15 = (1111)_2$ and $(a)_{16} = 10 = (1010)_2$ and hence\n",
    "$250 = (fa)_{16} = (11111010)_2$ can be written as"
   ]
  },
  {
   "cell_type": "code",
   "execution_count": 47,
   "metadata": {},
   "outputs": [
    {
     "data": {
      "text/plain": [
       "0xfa"
      ]
     },
     "metadata": {},
     "output_type": "display_data"
    }
   ],
   "source": [
    "0b11111010"
   ]
  },
  {
   "cell_type": "markdown",
   "metadata": {},
   "source": [
    "-----"
   ]
  },
  {
   "cell_type": "markdown",
   "metadata": {},
   "source": [
    "## II.2 Reals\n",
    "\n",
    "Real numbers interpret a sequence of bits as a real number, specified in\n",
    "floating point.\n",
    "In Julia these correspond to 3 different floating-point types:"
   ]
  },
  {
   "cell_type": "markdown",
   "metadata": {},
   "source": [
    "`Float64` is a type representing double precision ($F_{64} = F_{1023,11,52}$).\n",
    "We can create a `Float64` by including a\n",
    "decimal point when writing the number:"
   ]
  },
  {
   "cell_type": "code",
   "execution_count": null,
   "metadata": {},
   "outputs": [],
   "source": [
    "5.3 # isa Float64"
   ]
  },
  {
   "cell_type": "markdown",
   "metadata": {},
   "source": [
    "We can use `printbits` to see the stored bits:"
   ]
  },
  {
   "cell_type": "code",
   "execution_count": 48,
   "metadata": {},
   "outputs": [
    {
     "name": "stdout",
     "output_type": "stream",
     "text": [
      "\u001b[31m0\u001b[0m\u001b[32m10000000001\u001b[0m\u001b[34m0100100000000000000000000000000000000000000000000000\u001b[0m"
     ]
    }
   ],
   "source": [
    "printbits(5.125)"
   ]
  },
  {
   "cell_type": "markdown",
   "metadata": {},
   "source": [
    "The red bit is the sign bit (0 means positive). The Green bits represent the exponent, in this case:"
   ]
  },
  {
   "cell_type": "code",
   "execution_count": 49,
   "metadata": {},
   "outputs": [
    {
     "data": {
      "text/plain": [
       "2"
      ]
     },
     "metadata": {},
     "output_type": "display_data"
    }
   ],
   "source": [
    "σ = 1023 # the shift according to Float64 format\n",
    "0b10000000001 - σ # == 2"
   ]
  },
  {
   "cell_type": "markdown",
   "metadata": {},
   "source": [
    "The blue bits are the significand. In this case represent `(1.01001)_2 = 1 + 2^(-2) + 2^(-5)`. And indeed\n",
    "we have\n",
    "$$\n",
    "2^2 (1+2^{-2} + 2^{-5}) = 5 + 2^{-3} = 5.125\n",
    "$$"
   ]
  },
  {
   "cell_type": "markdown",
   "metadata": {},
   "source": [
    "Alternatively, one can use scientific notation: `5.125e0` to construct a `Float64`.\n",
    "`Float64` is the default format for\n",
    "scientific computing.\n",
    "\n",
    "`Float32` is a type representing single precision ($F_{32} = F_{127,8,23}$).  We can create a `Float32` by including a\n",
    "`f0` when writing the number. Here we create a `Float32` and print its bits:"
   ]
  },
  {
   "cell_type": "code",
   "execution_count": 51,
   "metadata": {},
   "outputs": [
    {
     "name": "stdout",
     "output_type": "stream",
     "text": [
      "\u001b[31m0\u001b[0m\u001b[32m10000001\u001b[0m\u001b[34m01001000000000000000000\u001b[0m"
     ]
    }
   ],
   "source": [
    "printbits(5.125f0) # 5.125f0 of type Float32"
   ]
  },
  {
   "cell_type": "markdown",
   "metadata": {},
   "source": [
    "Now the exponent is"
   ]
  },
  {
   "cell_type": "code",
   "execution_count": 50,
   "metadata": {},
   "outputs": [
    {
     "data": {
      "text/plain": [
       "2"
      ]
     },
     "metadata": {},
     "output_type": "display_data"
    }
   ],
   "source": [
    "σ = 127 # the shift according to Float32 format\n",
    "0b10000001 - σ # == 2"
   ]
  },
  {
   "cell_type": "markdown",
   "metadata": {},
   "source": [
    "and again we see this represents `5.125`.\n",
    "`Float32` is generally the default format for graphics (on the _Graphics Processing Unit_, GPU),\n",
    "as the difference between 32 bits and 64 bits is indistinguishable to the eye in visualisation,\n",
    "and more data can be fit into a GPU's limited memory."
   ]
  },
  {
   "cell_type": "markdown",
   "metadata": {},
   "source": [
    "`Float16` is a type representing half-precision ($F_{16} = F_{15,5,10}$).\n",
    "It is important in machine learning where one wants to maximise the amount of data\n",
    "and high accuracy is not necessarily helpful.  We create `Float16` by converting a `Float64`\n",
    "as follows:"
   ]
  },
  {
   "cell_type": "code",
   "execution_count": 52,
   "metadata": {},
   "outputs": [
    {
     "name": "stdout",
     "output_type": "stream",
     "text": [
      "\u001b[31m0\u001b[0m\u001b[32m10001\u001b[0m\u001b[34m0100100000\u001b[0m"
     ]
    }
   ],
   "source": [
    "printbits(Float16(5.125))"
   ]
  },
  {
   "cell_type": "markdown",
   "metadata": {},
   "source": [
    "Now the exponent is"
   ]
  },
  {
   "cell_type": "code",
   "execution_count": 53,
   "metadata": {},
   "outputs": [
    {
     "data": {
      "text/plain": [
       "2"
      ]
     },
     "metadata": {},
     "output_type": "display_data"
    }
   ],
   "source": [
    "σ = 15 # the shift according to Float16 format\n",
    "0b10001 - σ # == 2"
   ]
  },
  {
   "cell_type": "markdown",
   "metadata": {},
   "source": [
    "and we are representing $5.125$ again.\n",
    "`Float16` is important in machine learning where one wants to maximise the amount of data\n",
    "and high accuracy is not necessarily helpful.\n",
    "\n",
    "-----"
   ]
  },
  {
   "cell_type": "markdown",
   "metadata": {},
   "source": [
    "**Problem 4(a)** Use `reinterpret` and binary format to deduce which `Float16` has bits\n",
    "`1 01010 1010101010`."
   ]
  },
  {
   "cell_type": "code",
   "execution_count": 54,
   "metadata": {},
   "outputs": [
    {
     "data": {
      "text/plain": [
       "Float16(-0.05206)"
      ]
     },
     "metadata": {},
     "output_type": "display_data"
    }
   ],
   "source": [
    "# TODO: Construct a Float16 with the bits 1 01010 1010101010\n",
    "reinterpret(Float16, 0b1010101010101010)"
   ]
  },
  {
   "cell_type": "markdown",
   "metadata": {},
   "source": [
    "**Problem 4(b)** Use `printbits` to guess the binary representation of $1/5$."
   ]
  },
  {
   "cell_type": "code",
   "execution_count": 55,
   "metadata": {},
   "outputs": [
    {
     "name": "stdout",
     "output_type": "stream",
     "text": [
      "\u001b[31m0\u001b[0m\u001b[32m01111111100\u001b[0m\u001b[34m1001100110011001100110011001100110011001100110011010\u001b[0m"
     ]
    }
   ],
   "source": [
    "# TODO: Use printbits and guess the binary expansion of 1/5.\n",
    "printbits(1/5)"
   ]
  },
  {
   "cell_type": "markdown",
   "metadata": {},
   "source": [
    "-----"
   ]
  },
  {
   "cell_type": "markdown",
   "metadata": {},
   "source": [
    "We now construct the largest and smallest `Float32` and check their bit sequences:"
   ]
  },
  {
   "cell_type": "code",
   "execution_count": 56,
   "metadata": {},
   "outputs": [
    {
     "name": "stdout",
     "output_type": "stream",
     "text": [
      "\u001b[31m0\u001b[0m\u001b[32m00000001\u001b[0m\u001b[34m00000000000000000000000\u001b[0m\n",
      "\u001b[31m0\u001b[0m\u001b[32m11111110\u001b[0m\u001b[34m11111111111111111111111\u001b[0m\n"
     ]
    }
   ],
   "source": [
    "σ,Q,S = 127,8,23 # Float32\n",
    "εₘ = 2.0^(-S)\n",
    "printlnbits(Float32(2.0^(1-σ))) # smallest positive normal Float32\n",
    "printlnbits(Float32(2.0^(2^Q-2-σ) * (2-εₘ))) # largest normal Float32"
   ]
  },
  {
   "cell_type": "markdown",
   "metadata": {},
   "source": [
    "For a given floating-point type, we can find these constants using the following functions:"
   ]
  },
  {
   "cell_type": "code",
   "execution_count": null,
   "metadata": {},
   "outputs": [],
   "source": [
    "eps(Float32), floatmin(Float32), floatmax(Float32)"
   ]
  },
  {
   "cell_type": "markdown",
   "metadata": {},
   "source": [
    "### II.2.4 Sub-normal and special numbers"
   ]
  },
  {
   "cell_type": "markdown",
   "metadata": {},
   "source": [
    "If all the exponent bits are `0` then the number represents a \"sub-normal\" floating point number."
   ]
  },
  {
   "cell_type": "markdown",
   "metadata": {},
   "source": [
    "**Example (creating a sub-normal number)** If we divide the smallest normal number by `2`, we get a subnormal number:"
   ]
  },
  {
   "cell_type": "code",
   "execution_count": null,
   "metadata": {},
   "outputs": [],
   "source": [
    "mn = floatmin(Float32) # smallest normal Float32\n",
    "printlnbits(mn)\n",
    "printbits(mn/2)"
   ]
  },
  {
   "cell_type": "markdown",
   "metadata": {},
   "source": [
    "Can you explain the bits?\n",
    "\n",
    "Zero is a sub-normal number, but it turns out there is also a negative zero:"
   ]
  },
  {
   "cell_type": "code",
   "execution_count": null,
   "metadata": {},
   "outputs": [],
   "source": [
    "printlnbits(0.0) # 0 has all bits 0\n",
    "printlnbits(-0.0) # -0 has sign bit 1 and all other bits zero"
   ]
  },
  {
   "cell_type": "markdown",
   "metadata": {},
   "source": [
    "-----"
   ]
  },
  {
   "cell_type": "markdown",
   "metadata": {},
   "source": [
    "**Problem 4(c)** Create the smallest positive non-zero sub-normal `Float16` by specifying\n",
    "its bits."
   ]
  },
  {
   "cell_type": "code",
   "execution_count": 61,
   "metadata": {},
   "outputs": [
    {
     "data": {
      "text/plain": [
       "Float16(6.0e-8)"
      ]
     },
     "metadata": {},
     "output_type": "display_data"
    }
   ],
   "source": [
    "# TODO: create the smallest positive Float16\n",
    "reinterpret(Float16, 0b0000000000000001)"
   ]
  },
  {
   "cell_type": "markdown",
   "metadata": {},
   "source": [
    "-----"
   ]
  },
  {
   "cell_type": "markdown",
   "metadata": {},
   "source": [
    "The special numbers extend the real line by adding $±∞$ but also a notion of \"not-a-number\" ${\\rm NaN}$.\n",
    "Whenever the bits of the exponent $q$ of a floating-point number are all 1 then they represent an element of $F^{\\rm special}$.\n",
    "If all $b_k=0$, then the number represents either $±∞$, called `Inf` and `-Inf` for 64-bit floating-point numbers (or `Inf16`, `Inf32`\n",
    "for 16-bit and 32-bit, respectively):"
   ]
  },
  {
   "cell_type": "code",
   "execution_count": 62,
   "metadata": {},
   "outputs": [
    {
     "name": "stdout",
     "output_type": "stream",
     "text": [
      "\u001b[31m0\u001b[0m\u001b[32m11111\u001b[0m\u001b[34m0000000000\u001b[0m\n",
      "\u001b[31m1\u001b[0m\u001b[32m11111\u001b[0m\u001b[34m0000000000\u001b[0m"
     ]
    }
   ],
   "source": [
    "printlnbits(Inf16)\n",
    "printbits(-Inf16)"
   ]
  },
  {
   "cell_type": "markdown",
   "metadata": {},
   "source": [
    "All other special floating-point numbers represent ${\\rm NaN}$. One particular representation of ${\\rm NaN}$\n",
    "is denoted by `NaN` for 64-bit floating-point numbers (or `NaN16`, `NaN32` for 16-bit and 32-bit, respectively):"
   ]
  },
  {
   "cell_type": "code",
   "execution_count": 63,
   "metadata": {},
   "outputs": [
    {
     "name": "stdout",
     "output_type": "stream",
     "text": [
      "\u001b[31m0\u001b[0m\u001b[32m11111\u001b[0m\u001b[34m1000000000\u001b[0m"
     ]
    }
   ],
   "source": [
    "printbits(NaN16)"
   ]
  },
  {
   "cell_type": "markdown",
   "metadata": {},
   "source": [
    "Arithmetic works differently on `Inf` and `NaN` and for undefined operations.\n",
    "In particular we have:"
   ]
  },
  {
   "cell_type": "code",
   "execution_count": 64,
   "metadata": {},
   "outputs": [
    {
     "data": {
      "text/plain": [
       "true"
      ]
     },
     "metadata": {},
     "output_type": "display_data"
    }
   ],
   "source": [
    "1/0.0        # returns  Inf\n",
    "1/(-0.0)     # returns -Inf\n",
    "0.0/0.0      # returns  NaN\n",
    "\n",
    "Inf*0        # returns  NaN\n",
    "Inf+5        # returns  Inf\n",
    "(-1)*Inf     # returns -Inf\n",
    "1/Inf        # returns  0.0\n",
    "1/(-Inf)     # returns -0.0\n",
    "Inf - Inf    # returns  NaN\n",
    "Inf ==  Inf  # returns  true\n",
    "Inf == -Inf  # returns  false\n",
    "\n",
    "NaN*0        # returns  NaN\n",
    "NaN+5        # returns  NaN\n",
    "1/NaN        # returns  NaN\n",
    "NaN == NaN   # returns  false\n",
    "NaN != NaN   # returns  true"
   ]
  },
  {
   "cell_type": "markdown",
   "metadata": {},
   "source": [
    "Essentially `NaN` is a CPU's way of indicating an error has occurred, but computation\n",
    "will continue."
   ]
  },
  {
   "cell_type": "markdown",
   "metadata": {},
   "source": [
    "**Example (many `NaN`s)** What happens if we change some other $b_k$ to be nonzero?\n",
    "We can create bits as a string and see:"
   ]
  },
  {
   "cell_type": "code",
   "execution_count": 65,
   "metadata": {},
   "outputs": [
    {
     "data": {
      "text/plain": [
       "NaN16"
      ]
     },
     "metadata": {},
     "output_type": "display_data"
    }
   ],
   "source": [
    "i = 0b0111110000010001 # an UInt16\n",
    "reinterpret(Float16, i)"
   ]
  },
  {
   "cell_type": "markdown",
   "metadata": {},
   "source": [
    "Thus, there are many ways of representing `NaN`. (What a waste of perfectly good bit sequences!)"
   ]
  },
  {
   "cell_type": "markdown",
   "metadata": {},
   "source": [
    "---\n",
    "\n",
    "*This notebook was generated using [Literate.jl](https://github.com/fredrikekre/Literate.jl).*"
   ]
  }
 ],
 "metadata": {
  "kernelspec": {
   "display_name": "Julia 1.7.0",
   "language": "julia",
   "name": "julia-1.7"
  },
  "language_info": {
   "file_extension": ".jl",
   "mimetype": "application/julia",
   "name": "julia",
   "version": "1.7.0"
  }
 },
 "nbformat": 4,
 "nbformat_minor": 3
}
