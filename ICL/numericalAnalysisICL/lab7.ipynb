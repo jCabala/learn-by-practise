{
 "cells": [
  {
   "cell_type": "markdown",
   "metadata": {},
   "source": [
    "# MATH50003 (2023–24)\n",
    "# Lab 7: III.5 Orthogonal and Unitary Matrices and III.6 QR Factorisation"
   ]
  },
  {
   "cell_type": "markdown",
   "metadata": {},
   "source": [
    "This lab explores orthogonal matrices, including rotations and reflections.\n",
    "We will construct special types to capture the structure of these orthogonal operations,\n",
    "with the goal of implementing fast matrix*vector and matrix\\vector operations.\n",
    "We also compute the QR factorisation with Householder reflections, and use this\n",
    "to solve least squares problems."
   ]
  },
  {
   "cell_type": "markdown",
   "metadata": {},
   "source": [
    "**Learning Outcomes**\n",
    "\n",
    "Mathematical knowledge:\n",
    "\n",
    "1. Constructing rotation and reflection matrices.\n",
    "2. Computing the QR factorisation using reflections.\n",
    "3. Computing a tridiagonal QR factorisation using rotations.\n",
    "4. The relationship between QR and least squares.\n",
    "\n",
    "Coding knowledge:\n",
    "\n",
    "1. The `atan(y,x)` function and the `I` convenience syntax.\n",
    "2. Templating fields in a type.\n",
    "3. Using the `qr` function to solve least squares."
   ]
  },
  {
   "cell_type": "code",
   "execution_count": 2,
   "metadata": {},
   "outputs": [],
   "source": [
    "using LinearAlgebra, Test"
   ]
  },
  {
   "cell_type": "markdown",
   "metadata": {},
   "source": [
    "## III.5 Orthogonal and Unitary Matrices"
   ]
  },
  {
   "cell_type": "markdown",
   "metadata": {},
   "source": [
    "Here we explore representing rotations and reflections, which are\n",
    "special types of orthogonal/unitary matrices."
   ]
  },
  {
   "cell_type": "markdown",
   "metadata": {},
   "source": [
    "### III.5.1 Rotations"
   ]
  },
  {
   "cell_type": "markdown",
   "metadata": {},
   "source": [
    "A (simple) rotation matrix is an element of the special orthogonal group $SO(2)$ and has a matrix representation\n",
    "$$\n",
    " \\begin{bmatrix} c & -s \\\\ s & c \\end{bmatrix}\n",
    "$$\n",
    "such that $c^2 + s^2 = 1$.\n",
    "More generally, we can generalise simple rotations on higher dimensional vectors by acting on two indices at a time.\n",
    "There are multiple ways of storing a rotation matrix, here we explore the most intuitive (but not the fastest!) way of storing just an angle $θ$\n",
    "so that $c = \\cos θ$ and $s = \\sin θ$."
   ]
  },
  {
   "cell_type": "markdown",
   "metadata": {},
   "source": [
    "We will use a syntax in a struct that forces a field to be a special type. In what follows we define\n",
    "the `getindex` by first implementing multiplication, a pattern that will be reused in the problems."
   ]
  },
  {
   "cell_type": "code",
   "execution_count": 3,
   "metadata": {},
   "outputs": [
    {
     "data": {
      "text/plain": [
       "2×2 Rotation:\n",
       " 0.995004   -0.0998334\n",
       " 0.0998334   0.995004"
      ]
     },
     "metadata": {},
     "output_type": "display_data"
    }
   ],
   "source": [
    "struct Rotation <: AbstractMatrix{Float64}\n",
    "    θ::Float64 # The ::Float64 means θ can only be a Float64\n",
    "end\n",
    "\n",
    "import Base: *, size, getindex\n",
    "\n",
    "size(Q::Rotation) = (2, 2)\n",
    "\n",
    "function *(Q::Rotation, x::AbstractVector)\n",
    "    if length(x) ≠ 2\n",
    "        error(\"dimension mismatch\")\n",
    "    end\n",
    "    θ = Q.θ\n",
    "    c,s = cos(θ), sin(θ)\n",
    "    a,b = x # special syntax so that a == x[1] and b == x[2]\n",
    "    [c*a - s*b, s*a + c*b]\n",
    "end\n",
    "\n",
    "function getindex(Q::Rotation, k::Int, j::Int)\n",
    "    # We use the overloaded * above as we will follow this pattern later.\n",
    "    e_k = zeros(2)\n",
    "    e_j = zeros(2)\n",
    "    e_k[k] = 1  # will error if k ≠ 1 or 2\n",
    "    e_j[j] = 1  # will error if j ≠ 1 or 2\n",
    "    e_k'*(Q*e_j)\n",
    "end\n",
    "\n",
    "Q = Rotation(0.1)"
   ]
  },
  {
   "cell_type": "markdown",
   "metadata": {},
   "source": [
    "We can test the ability to rotate a vector to the $x$-axis. Here we use the inbuilt `atan(y,x)` function\n",
    "to compute the angle of a vector:"
   ]
  },
  {
   "cell_type": "code",
   "execution_count": 4,
   "metadata": {},
   "outputs": [
    {
     "data": {
      "text/plain": [
       "2-element Vector{Float64}:\n",
       " 2.23606797749979\n",
       " 0.0"
      ]
     },
     "metadata": {},
     "output_type": "display_data"
    }
   ],
   "source": [
    "x = [-1,-2]\n",
    "θ = atan(x[2], x[1]) # angle of the vector x\n",
    "Q = Rotation(-θ) # rotate back\n",
    "Q * x # first entry is norm(x), second entry is 0"
   ]
  },
  {
   "cell_type": "markdown",
   "metadata": {},
   "source": [
    "-----"
   ]
  },
  {
   "cell_type": "markdown",
   "metadata": {},
   "source": [
    "**Problem 1** Complete the implementation of `Rotations`, which represents an orthogonal matrix `Q` that is a product\n",
    "of rotations of angle `θ[k]`, each acting on the entries `k:k+1`. That is, it returns $Q = Q_1⋯Q_k$ such that\n",
    "$$\n",
    "Q_k[k:k+1,k:k+1] =\n",
    "\\begin{bmatrix}\n",
    "\\cos θ[k] & -\\sin θ[k]\\\\\n",
    "\\sin θ[k] & \\cos θ[k]\n",
    "\\end{bmatrix}\n",
    "$$\n",
    "with all other entries being equivalent to the identity."
   ]
  },
  {
   "cell_type": "code",
   "execution_count": 5,
   "metadata": {},
   "outputs": [
    {
     "data": {
      "text/plain": [
       "\u001b[32m\u001b[1mTest Passed\u001b[22m\u001b[39m\n",
       "  Expression: Rotations([π / 2, -π / 2]) ≈ [0 0 -1; 1 0 0; 0 -1 0]\n",
       "   Evaluated: [6.123233995736766e-17 -6.123233995736766e-17 -1.0; 1.0 3.749399456654644e-33 6.123233995736766e-17; 0.0 -1.0 6.123233995736766e-17] ≈ [0 0 -1; 1 0 0; 0 -1 0]"
      ]
     },
     "metadata": {},
     "output_type": "display_data"
    }
   ],
   "source": [
    "struct Rotations <: AbstractMatrix{Float64}\n",
    "    θ::Vector{Float64} # a vector of angles\n",
    "end\n",
    "\n",
    "# a1 -b1  0   0\n",
    "# b1  a1  0   0\n",
    "#  0   0 a2 -b2\n",
    "#  0   0 b2  a2\n",
    "\n",
    "# we use the number of rotations to deduce the dimensions of the matrix\n",
    "size(Q::Rotations) = (length(Q.θ)+1, length(Q.θ)+1)\n",
    "\n",
    "function *(Q::Rotations, x::AbstractVector)\n",
    "    # TODO: Apply Q in O(n) operations. You may assume x has Float64 entries.\n",
    "    # Hint: you may wish to use copy(x) and only change the relevant entries.\n",
    "    y = copy(x) # copies x to a new Vector\n",
    "    θ = Q.θ\n",
    "\n",
    "    for k = length(θ):-1:1\n",
    "        c,s = cos(θ[k]), sin(θ[k])\n",
    "        y[k], y[k+1] = c*y[k] - s*y[k+1], s*y[k] + c*y[k+1]\n",
    "    end\n",
    "\n",
    "\n",
    "    y\n",
    "end\n",
    "\n",
    "function getindex(Q::Rotations, k::Int, j::Int)\n",
    "    n, _ = size(Q)\n",
    "    x = zeros(n)\n",
    "    x[j] = 1\n",
    "    y = Q*x\n",
    "    y[k]\n",
    "end\n",
    "\n",
    "θ = randn(5)\n",
    "Q = Rotations(θ)\n",
    "@test Q'Q ≈ I\n",
    "@test Rotations([π/2, -π/2]) ≈ [0 0 -1; 1 0 0; 0 -1 0]\n",
    "\n",
    "# 0  0 -1\n",
    "# 1  0  0\n",
    "# 0 -1  0"
   ]
  },
  {
   "cell_type": "markdown",
   "metadata": {},
   "source": [
    "------"
   ]
  },
  {
   "cell_type": "markdown",
   "metadata": {},
   "source": [
    "### III.5.2 Reflections"
   ]
  },
  {
   "cell_type": "markdown",
   "metadata": {},
   "source": [
    "We can also construct reflections, defined by a normalised vector $𝐯$ as\n",
    "$$\n",
    "Q_{𝐯} := I - 2𝐯𝐯^⋆\n",
    "$$\n",
    "The obvious way is to create a dense vector, eg."
   ]
  },
  {
   "cell_type": "code",
   "execution_count": 6,
   "metadata": {},
   "outputs": [
    {
     "data": {
      "text/plain": [
       "5×5 Matrix{Float64}:\n",
       "  0.210752     0.110274     0.00816022  -0.472562     0.848553\n",
       "  0.110274     0.984592    -0.00114015   0.0660267   -0.11856\n",
       "  0.00816022  -0.00114015   0.999916     0.00488593  -0.00877339\n",
       " -0.472562     0.0660267    0.00488593   0.717054     0.508071\n",
       "  0.848553    -0.11856     -0.00877339   0.508071     0.0876856"
      ]
     },
     "metadata": {},
     "output_type": "display_data"
    }
   ],
   "source": [
    "x = randn(5) # vector we want to reflect\n",
    "v = x/norm(x) # normalise x\n",
    "Q = I - 2v*v' # a reflection matrix"
   ]
  },
  {
   "cell_type": "markdown",
   "metadata": {},
   "source": [
    "Note `I` is a special convenience type that represents the identity matrix for any dimension."
   ]
  },
  {
   "cell_type": "markdown",
   "metadata": {},
   "source": [
    "A special type of reflection is a Householder reflection, which maps a vector to the $x$-axis.\n",
    "Using dense matrices we can construct it as follows:"
   ]
  },
  {
   "cell_type": "code",
   "execution_count": 7,
   "metadata": {},
   "outputs": [
    {
     "data": {
      "text/plain": [
       "3-element Vector{ComplexF64}:\n",
       "     0.532414809876821 - 2.0399771891593383im\n",
       " 2.220446049250313e-16 - 1.3877787807814457e-17im\n",
       "                   0.0 + 2.220446049250313e-16im"
      ]
     },
     "metadata": {},
     "output_type": "display_data"
    }
   ],
   "source": [
    "function dense_householderreflection(x)\n",
    "    y = copy(x)\n",
    "    if x[1] == 0\n",
    "        y[1] += norm(x)\n",
    "    else # note sign(z) = exp(im*angle(z)) where `angle` is the argument of a complex number\n",
    "        y[1] += sign(x[1])*norm(x)\n",
    "    end\n",
    "    w = y/norm(y)\n",
    "    I - 2*w*w'\n",
    "end\n",
    "\n",
    "\n",
    "x = randn(3) + im*randn(3)\n",
    "Q = dense_householderreflection(x)\n",
    "Q * x # all the entries apart from the first are numerically zero"
   ]
  },
  {
   "cell_type": "markdown",
   "metadata": {},
   "source": [
    "A matrix-vector product is $O(n^2)$ operations but we know we can reduce it to $O(n)$.\n",
    "Thus we will create a special type to represent the reflection and obtain the better complexity\n",
    "multiplication. Because we want the matrix to be real when the entries are real we will use\n",
    "a special feature called \"templating\". Here by adding the `{T}` after the type we allow this to\n",
    "be either a `Float64` or `ComplexF64` (or indeed a `BigFloat`). We also do some checking\n",
    "to make sure that our defining vector is already normalised."
   ]
  },
  {
   "cell_type": "code",
   "execution_count": 8,
   "metadata": {},
   "outputs": [
    {
     "data": {
      "text/plain": [
       "* (generic function with 367 methods)"
      ]
     },
     "metadata": {},
     "output_type": "display_data"
    }
   ],
   "source": [
    "struct Reflection{T} <: AbstractMatrix{T}\n",
    "    v::Vector{T} # T can be either a Float64 or ComplexF64\n",
    "end\n",
    "\n",
    "function Reflection(v::Vector)\n",
    "    T = eltype(v) # find the type of the entries of v\n",
    "    if !(norm(v) ≈ 1)\n",
    "        error(\"input must be normalised\")\n",
    "    end\n",
    "    Reflection{T}(v) # create an instance of Reflection, specifying the entry type\n",
    "end\n",
    "\n",
    "\n",
    "## Implementations of Reflection * AbstractMatrix\n",
    "# You may wish to use this below to solve Problem 3.\n",
    "function *(Q::Reflection, X::AbstractMatrix)\n",
    "    T = promote_type(eltype(Q), eltype(X))\n",
    "    m,n = size(X)\n",
    "    ret = zeros(T, m, n)\n",
    "    for j = 1:n\n",
    "        ret[:,j] = Q * X[:,j]\n",
    "    end\n",
    "    ret\n",
    "end"
   ]
  },
  {
   "cell_type": "markdown",
   "metadata": {},
   "source": [
    "-----"
   ]
  },
  {
   "cell_type": "markdown",
   "metadata": {},
   "source": [
    "**Problem 2(a)** Complete the implementation of a type representing an n × n\n",
    "reflection that supports `Q[k,j]` in $O(1)$ operations and `*` in $O(n)$ operations.\n",
    "The reflection may be complex (that is, $Q ∈ U(n)$ is unitary)."
   ]
  },
  {
   "cell_type": "code",
   "execution_count": 9,
   "metadata": {},
   "outputs": [
    {
     "data": {
      "text/plain": [
       "\u001b[32m\u001b[1mTest Passed\u001b[22m\u001b[39m\n",
       "  Expression: Q * x ≈ -x\n",
       "   Evaluated: ComplexF64[2.1538066082684026 - 0.18948119873430833im, 0.875841673399823 + 0.23112831700500755im, 0.8694330396234974 + 0.2799382407560835im, -1.5172295191471514 - 1.7019437668374024im, -0.15789222385191362 + 1.1994446476503842im, 1.9626569437261665 + 0.6302831668815558im, -2.203720976128073 + 0.586349317578734im, -1.9008268419515897 + 1.0451506507035588im, 0.4576784590988926 + 1.0903259869186546im, -0.2530416194070889 - 0.5182975900196231im  …  -0.7004168836887648 + 0.674327555302674im, 0.9216402882947269 + 0.2951775947347042im, 1.0374070602162253 + 1.0290319897308706im, 0.1259559089882645 - 2.0579485752274618im, -0.4930732812407749 + 0.6987763488712927im, 0.4991905430510914 + 1.06148125081347im, -0.19830267753857128 - 0.2962361225015208im, 0.08181010254334593 - 0.5062292176282687im, -1.118959481268426 - 1.119734955640869im, -0.13562617384412073 + 0.08522804003865939im] ≈ ComplexF64[2.1538066082684035 - 0.18948119873430838im, 0.8758416733998232 + 0.23112831700500755im, 0.8694330396234976 + 0.2799382407560836im, -1.5172295191471519 - 1.701943766837403im, -0.15789222385191362 + 1.1994446476503846im, 1.9626569437261665 + 0.6302831668815558im, -2.203720976128073 + 0.5863493175787342im, -1.9008268419515901 + 1.0451506507035593im, 0.4576784590988928 + 1.0903259869186546im, -0.253041619407089 - 0.5182975900196233im  …  -0.700416883688765 + 0.674327555302674im, 0.9216402882947271 + 0.2951775947347043im, 1.0374070602162258 + 1.029031989730871im, 0.1259559089882645 - 2.0579485752274618im, -0.4930732812407751 + 0.6987763488712929im, 0.4991905430510916 + 1.0614812508134703im, -0.19830267753857134 - 0.2962361225015209im, 0.08181010254334596 - 0.5062292176282689im, -1.1189594812684265 - 1.1197349556408693im, -0.1356261738441208 + 0.08522804003865941im]"
      ]
     },
     "metadata": {},
     "output_type": "display_data"
    }
   ],
   "source": [
    "# Represents I - 2v*v'\n",
    "\n",
    "\n",
    "size(Q::Reflection) = (length(Q.v),length(Q.v))\n",
    "\n",
    "# getindex(Q, k, j) is synonym for Q[k,j]\n",
    "function getindex(Q::Reflection, k::Int, j::Int)\n",
    "    a = -2*conj(Q.v[j])*Q.v[k]\n",
    "    if k == j\n",
    "        a += 1\n",
    "    end\n",
    "    a\n",
    "end\n",
    "function *(Q::Reflection, x::AbstractVector)\n",
    "    y = copy(x)\n",
    "    y -= 2*Q.v*(Q.v'*x)\n",
    "    y\n",
    "end\n",
    "\n",
    "# If your code is correct, these \"unit tests\" will succeed\n",
    "n = 10\n",
    "x = randn(n) + im*randn(n)\n",
    "v = x/norm(x)\n",
    "Q = Reflection(v)\n",
    "@test Q == I-2v*v'\n",
    "@test Q'Q ≈ I\n",
    "\n",
    "\n",
    "# We can scale to very large sizes. here we check the reflection property on an 100_000 matrix:\n",
    "n = 100_000\n",
    "x = randn(n) + im*randn(n)\n",
    "v = x/norm(x)\n",
    "Q = Reflection(v)\n",
    "@test Q*x ≈ -x"
   ]
  },
  {
   "cell_type": "markdown",
   "metadata": {},
   "source": [
    "**Problem 2(b)** Complete the following implementation of a Housholder reflection  so that the\n",
    "unit tests pass, using the `Reflection` type created above.\n",
    "Here `s == true` means the Householder reflection is sent to the positive axis and `s == false` is the negative axis.\n",
    "You may assume `x` has real entries."
   ]
  },
  {
   "cell_type": "code",
   "execution_count": 10,
   "metadata": {},
   "outputs": [
    {
     "data": {
      "text/plain": [
       "\u001b[32m\u001b[1mTest Passed\u001b[22m\u001b[39m\n",
       "  Expression: Q * x ≈ [-(norm(x)); zeros(eltype(x), length(x) - 1)]\n",
       "   Evaluated: [-1.3562034803928689, 0.0, 0.0, 0.0, 0.0] ≈ [-1.3562034803928689, 0.0, 0.0, 0.0, 0.0]"
      ]
     },
     "metadata": {},
     "output_type": "display_data"
    }
   ],
   "source": [
    "function householderreflection(s::Bool, x::AbstractVector)\n",
    "    # TODO: return a Reflection corresponding to a Householder reflection\n",
    "    y = copy(x) # don't modify x\n",
    "    if s\n",
    "        y[1] -= norm(x)\n",
    "    else\n",
    "        y[1] += norm(x)\n",
    "    end\n",
    "    Reflection(y/norm(y))\n",
    "end\n",
    "\n",
    "x = randn(5)\n",
    "Q = householderreflection(true, x)\n",
    "@test Q isa Reflection\n",
    "@test Q*x ≈ [norm(x);zeros(eltype(x),length(x)-1)]\n",
    "\n",
    "Q = householderreflection(false, x)\n",
    "@test Q isa Reflection\n",
    "@test Q*x ≈ [-norm(x);zeros(eltype(x),length(x)-1)]"
   ]
  },
  {
   "cell_type": "markdown",
   "metadata": {},
   "source": [
    "**Problem 2(c)**\n",
    "Complete the definition of `Reflections` which supports a sequence of reflections,\n",
    "that is,\n",
    "$$\n",
    "Q = Q_{𝐯_1} ⋯ Q_{𝐯_m}\n",
    "$$\n",
    "where the vectors are stored as a matrix $V ∈ ℂ^{n × m}$ whose $j$-th column is $𝐯_j∈ ℂ^n$, and\n",
    "$$\n",
    "Q_{𝐯_j} = I - 2 𝐯_j 𝐯_j^⋆\n",
    "$$\n",
    "is a reflection."
   ]
  },
  {
   "cell_type": "code",
   "execution_count": 11,
   "metadata": {},
   "outputs": [
    {
     "data": {
      "text/plain": [
       "\u001b[32m\u001b[1mTest Passed\u001b[22m\u001b[39m\n",
       "  Expression: Q' * Q ≈ I\n",
       "   Evaluated: [1.0000000000000002 4.163336342344337e-17 … 1.942890293094024e-16 -1.1102230246251565e-16; 1.3877787807814457e-16 0.9999999999999997 … 4.996003610813204e-16 -2.220446049250313e-16; … ; 5.551115123125783e-17 1.6653345369377348e-16 … 0.9999999999999993 0.0; 5.551115123125783e-17 -1.6653345369377348e-16 … -1.1102230246251565e-16 0.9999999999999998] ≈ UniformScaling{Bool}(true)"
      ]
     },
     "metadata": {},
     "output_type": "display_data"
    }
   ],
   "source": [
    "struct Reflections{T} <: AbstractMatrix{T}\n",
    "    V::Matrix{T} # Columns of V are the householder vectors\n",
    "end\n",
    "\n",
    "size(Q::Reflections) = (size(Q.V,1), size(Q.V,1))\n",
    "\n",
    "\n",
    "function *(Q::Reflections, x::AbstractVector)\n",
    "    # TODO: Apply Q in O(mn) operations by applying\n",
    "    # the reflection corresponding to each column of Q.V to x\n",
    "    m,n = size(Q.V)\n",
    "    for j = n:-1:1\n",
    "        x = Reflection(Q.V[:, j]) * x\n",
    "    end\n",
    "    x\n",
    "end\n",
    "\n",
    "\n",
    "## Implementations of Reflections * AbstractMatrix\n",
    "# You may wish to use this below to solve Problem 3.\n",
    "function *(Q::Reflections, X::AbstractMatrix)\n",
    "    T = promote_type(eltype(Q), eltype(X))\n",
    "    m,n = size(X)\n",
    "    ret = zeros(T, m, n)\n",
    "    for j = 1:n\n",
    "        ret[:,j] = Q * X[:,j]\n",
    "    end\n",
    "    ret\n",
    "end\n",
    "\n",
    "\n",
    "function getindex(Q::Reflections, k::Int, j::Int)\n",
    "    T = eltype(Q.V)\n",
    "    m,n = size(Q)\n",
    "    eⱼ = zeros(T, m)\n",
    "    eⱼ[j] = one(T)\n",
    "    return (Q*eⱼ)[k]\n",
    "end\n",
    "\n",
    "import LinearAlgebra: adjoint\n",
    "function adjoint(Q::Reflections) # called when calling Q'\n",
    "    Reflections(Q.V[:,end:-1:1])\n",
    "end\n",
    "\n",
    "Y = randn(5,3)\n",
    "V = Y * Diagonal([1/norm(Y[:,j]) for j=1:3])\n",
    "Q = Reflections(V)\n",
    "@test Q ≈ (I - 2V[:,1]*V[:,1]')*(I - 2V[:,2]*V[:,2]')*(I - 2V[:,3]*V[:,3]')\n",
    "@test Q' isa Reflections\n",
    "@test Q' ≈ (I - 2V[:,3]*V[:,3]')*(I - 2V[:,2]*V[:,2]')*(I - 2V[:,1]*V[:,1]')\n",
    "@test Q'Q ≈ I"
   ]
  },
  {
   "cell_type": "markdown",
   "metadata": {},
   "source": [
    "-----"
   ]
  },
  {
   "cell_type": "markdown",
   "metadata": {},
   "source": [
    "## III.6 QR Factorisation"
   ]
  },
  {
   "cell_type": "markdown",
   "metadata": {},
   "source": [
    "The QR factorisation of a matrix $A ∈ ℂ^{m × n}$ is of the form\n",
    "$$\n",
    "A = QR\n",
    "$$\n",
    "where $Q$ is unitary and $R$ is right-triangular: all entries below the diagonal are zero. We focus on the case where $m ≥ n$.\n",
    "It can be computed using Gram–Schmidt, Householder reflections or rotations."
   ]
  },
  {
   "cell_type": "markdown",
   "metadata": {},
   "source": [
    "### III.6.1 Reduced QR and Gram–Schmidt"
   ]
  },
  {
   "cell_type": "markdown",
   "metadata": {},
   "source": [
    "The Gram–Schmidt process can be used to compute the QR factorisation by orthogonalising the columns\n",
    "of $A$ in sequence. We won't discuss this in more detail as it is numerically better to use reflections/rotations."
   ]
  },
  {
   "cell_type": "markdown",
   "metadata": {},
   "source": [
    "### III.6.2 Householder reflections and QR"
   ]
  },
  {
   "cell_type": "markdown",
   "metadata": {},
   "source": [
    "In the notes we use Householder reflections to prove that a QR factorisation exists.\n",
    "The iterative proof actually encodes an algorithm, which we can implement as follows:"
   ]
  },
  {
   "cell_type": "code",
   "execution_count": 12,
   "metadata": {},
   "outputs": [
    {
     "data": {
      "text/plain": [
       "\u001b[32m\u001b[1mTest Passed\u001b[22m\u001b[39m\n",
       "  Expression: Q * R ≈ A\n",
       "   Evaluated: [-0.722122766210186 -0.7531853830931851 … -0.10958267528674034 -0.28604026090033485; 0.05551734734398218 1.698944381518207 … -1.0136353488760028 1.119739920090353; … ; -0.23862846875933177 0.16989564706393862 … 0.46031779574201775 -0.25706198581613393; -0.1684909214567553 0.47053387639692923 … 0.7871512373372883 0.21494921602741235] ≈ [-0.7221227662101831 -0.7531853830931861 … -0.10958267528674327 -0.28604026090033463; 0.05551734734398216 1.6989443815182066 … -1.013635348876002 1.1197399200903455; … ; -0.23862846875933166 0.16989564706393867 … 0.4603177957420168 -0.2570619858161331; -0.16849092145675523 0.47053387639692945 … 0.7871512373372874 0.21494921602741154]"
      ]
     },
     "metadata": {},
     "output_type": "display_data"
    }
   ],
   "source": [
    "function householderqr(A)\n",
    "    T = eltype(A)\n",
    "    m,n = size(A)\n",
    "    if n > m\n",
    "        error(\"More columns than rows is not supported\")\n",
    "    end\n",
    "\n",
    "    R = zeros(T, m, n)\n",
    "    Q = Matrix(one(T)*I, m, m)\n",
    "    Aⱼ = copy(A)\n",
    "\n",
    "    for j = 1:n\n",
    "        𝐚₁ = Aⱼ[:,1] # first columns of Aⱼ\n",
    "        Q₁ = dense_householderreflection(𝐚₁)\n",
    "        Q₁Aⱼ = Q₁*Aⱼ # multiply Aⱼ by the Householder reflection\n",
    "        α,𝐰 = Q₁Aⱼ[1,1],Q₁Aⱼ[1,2:end]\n",
    "\n",
    "        # populate returned data\n",
    "        R[j,j] = α\n",
    "        R[j,j+1:end] = 𝐰\n",
    "\n",
    "        # following is equivalent to Q = Q*[I 0 ; 0 Qⱼ]\n",
    "        Q[:,j:end] = Q[:,j:end]*Q₁\n",
    "        \n",
    "        Aⱼ = Q₁Aⱼ[2:end,2:end] # this is the \"induction\"\n",
    "    end\n",
    "    Q,R\n",
    "end\n",
    "\n",
    "m,n = 100,50\n",
    "A = randn(m,n)\n",
    "Q,R = householderqr(A)\n",
    "@test Q'Q ≈ I\n",
    "@test Q*R ≈ A"
   ]
  },
  {
   "cell_type": "markdown",
   "metadata": {},
   "source": [
    "Note because we are forming a full matrix representation of each Householder\n",
    "reflection this is a slow algorithm: it uses $O(m^2 n^2)$ operations, which is too many!\n",
    "By being more careful about how we apply and store reflections we can avoid this,\n",
    "in particular, taking advantage of the types `Reflection` and `Reflections`."
   ]
  },
  {
   "cell_type": "markdown",
   "metadata": {},
   "source": [
    "------"
   ]
  },
  {
   "cell_type": "markdown",
   "metadata": {},
   "source": [
    "**Problem 3** Complete the following function that implements\n",
    "Householder QR for a real matrix $A ∈ ℝ^{m × n}$ where $m ≥ n$ using only $O(mn^2)$ operations, using\n",
    " `Reflection` and `Reflections`."
   ]
  },
  {
   "cell_type": "code",
   "execution_count": 25,
   "metadata": {},
   "outputs": [
    {
     "data": {
      "text/plain": [
       "\u001b[32m\u001b[1mTest Passed\u001b[22m\u001b[39m\n",
       "  Expression: Q * R ≈ A\n",
       "   Evaluated: [0.6012825715531456 0.8069294723789866 … -1.534268755678 -0.2976238425546468; -0.10433162179817825 -1.2364897555243346 … 0.26914247563753513 -0.022082130469634493; … ; 0.25531973324548984 1.1082408718064165 … 1.4534176274810668 -1.2592141851539476; 0.10424008498863459 -1.4544143803698855 … -0.6909979584772324 1.0888751307088929] ≈ [0.6012825715531508 0.8069294723789875 … -1.5342687556780004 -0.2976238425546462; -0.10433162179817827 -1.2364897555243388 … 0.26914247563753546 -0.02208213046963413; … ; 0.2553197332454899 1.1082408718064167 … 1.4534176274810648 -1.259214185153949; 0.1042400849886346 -1.4544143803698857 … -0.6909979584772314 1.0888751307088942]"
      ]
     },
     "metadata": {},
     "output_type": "display_data"
    }
   ],
   "source": [
    "\n",
    "function householderqr(A)\n",
    "    T = eltype(A)\n",
    "    m,n = size(A)\n",
    "    if n > m\n",
    "        error(\"More columns than rows is not supported\")\n",
    "    end\n",
    "\n",
    "    R = zeros(T, m, n)\n",
    "    Q = Reflections(zeros(T, m, n))\n",
    "    Aⱼ = copy(A)\n",
    "\n",
    "    for j = 1:n\n",
    "        # TODO: rewrite householder QR to use Reflection,\n",
    "        # Reflections and householderreflection, in a way that one achieves O(mn^2) operations\n",
    "        # SOLUTION\n",
    "        𝐚₁ = Aⱼ[:,1] # first columns of Aⱼ\n",
    "        Q₁ = householderreflection(𝐚₁[1] < 0, 𝐚₁)\n",
    "        Q₁Aⱼ = Q₁*Aⱼ\n",
    "        α,𝐰 = Q₁Aⱼ[1,1],Q₁Aⱼ[1,2:end]\n",
    "        Aⱼ₊₁ = Q₁Aⱼ[2:end,2:end]\n",
    "\n",
    "        # populate returned data\n",
    "        R[j,j] = α\n",
    "        R[j,j+1:end] = 𝐰\n",
    "\n",
    "        Q.V[j:end, j] = Q₁.v\n",
    "\n",
    "        Aⱼ = Aⱼ₊₁ # this is the \"induction\"\n",
    "        # END\n",
    "    end\n",
    "    Q,R\n",
    "end\n",
    "\n",
    "A = randn(600,400)\n",
    "Q,R = householderqr(A)\n",
    "@test Q*R ≈ A"
   ]
  },
  {
   "cell_type": "markdown",
   "metadata": {},
   "source": [
    "------\n",
    "### Given's Rotations and QR"
   ]
  },
  {
   "cell_type": "markdown",
   "metadata": {},
   "source": [
    "An alternative to using reflections to introduce zeros is to use rotations, which\n",
    "are called Given's Rotations.\n",
    "This is particularly convenient for tridiagonal matrices, where one needs to only\n",
    "make one sub-diagonal zero. Here we explore a tridiagonal QR built from rotations\n",
    "in a way that the factorisation can be computed in $O(n)$ operations."
   ]
  },
  {
   "cell_type": "markdown",
   "metadata": {},
   "source": [
    "-----"
   ]
  },
  {
   "cell_type": "markdown",
   "metadata": {},
   "source": [
    "**Problem 4** This problem explores computing  a QR factorisation of a Tridiagonal matrix in $O(n)$ operations.\n",
    "This will introduce entries in the second super-diagonal, hence we will use the `UpperTridiagonal` type\n",
    "from Lab 6 (solution copied below). Complete the implementation of `bandedqr`, that only takes $O(n)$ operations,\n",
    "using an instance of `Reflections` to represent `Q` and `UpperTriangular` to represent `R`."
   ]
  },
  {
   "cell_type": "code",
   "execution_count": 19,
   "metadata": {},
   "outputs": [
    {
     "data": {
      "text/plain": [
       "\u001b[32m\u001b[1mTest Passed\u001b[22m\u001b[39m\n",
       "  Expression: Q * R ≈ A\n",
       "   Evaluated: [1.0 1.0000000000000002 … 4.440892098500626e-16 2.220446049250313e-16; 0.9999999999999998 1.9999999999999996 … -4.440892098500626e-16 0.0; … ; 0.0 0.0 … 4.0 3.9999999999999996; 0.0 0.0 … 4.0 5.0] ≈ [1 1 … 0 0; 1 2 … 0 0; … ; 0 0 … 4 4; 0 0 … 4 5]"
      ]
     },
     "metadata": {},
     "output_type": "display_data"
    }
   ],
   "source": [
    "import Base: *, size, getindex, setindex!\n",
    "struct UpperTridiagonal{T} <: AbstractMatrix{T}\n",
    "    d::Vector{T}   # diagonal entries\n",
    "    du::Vector{T}  # super-diagonal enries\n",
    "    du2::Vector{T} # second-super-diagonal entries\n",
    "end\n",
    "\n",
    "size(U::UpperTridiagonal) = (length(U.d),length(U.d))\n",
    "\n",
    "function getindex(U::UpperTridiagonal, k::Int, j::Int)\n",
    "    d,du,du2 = U.d,U.du,U.du2\n",
    "    if j - k == 0\n",
    "        d[j]\n",
    "    elseif j - k == 1\n",
    "        du[k]\n",
    "    elseif j - k == 2\n",
    "        du2[k]\n",
    "    else\n",
    "        0\n",
    "    end\n",
    "end\n",
    "\n",
    "function setindex!(U::UpperTridiagonal, v, k::Int, j::Int)\n",
    "    d,du,du2 = U.d,U.du,U.du2\n",
    "    if j > k+2\n",
    "        error(\"Cannot modify off-band\")\n",
    "    end\n",
    "    if j - k == 0\n",
    "        d[k] = v\n",
    "    elseif j - k == 1\n",
    "        du[k] = v\n",
    "    elseif j - k == 2\n",
    "        du2[k] = v\n",
    "    else\n",
    "        error(\"Cannot modify off-band\")\n",
    "    end\n",
    "    U # by convention we return the matrix\n",
    "end\n",
    "\n",
    "\n",
    "function bandedqr(A::Tridiagonal)\n",
    "    n = size(A, 1)\n",
    "    Q = Rotations(zeros(n - 1)) # Assume Float64\n",
    "    R = UpperTridiagonal(zeros(n), zeros(n - 1), zeros(n - 2))\n",
    "\n",
    "    # TODO: Populate Q and R by looping through the columns of A.\n",
    "    R[1, 1:2] = A[1, 1:2]\n",
    "\n",
    "    for j = 1:n-1\n",
    "        x_1 = [R[j, j], A[j+1, j]]\n",
    "        Q.θ[j] = atan(x_1[2], x_1[1])\n",
    "        Q_1 = Rotation(-Q.θ[j])\n",
    "        R[j, j] = (Q_1 * x_1)[1]\n",
    "\n",
    "        x_2 = [R[j, j+1]; A[j+1, j+1]]\n",
    "        R[j:j+1, j+1] = Q_1 * x_2\n",
    "\n",
    "        if j < n - 1\n",
    "            x_3 = [0, A[j+1, j+2]]\n",
    "            R[j:j+1, j+2] = Q_1 * x_3\n",
    "        end\n",
    "    end\n",
    "\n",
    "    Q, R\n",
    "end\n",
    "\n",
    "A = Tridiagonal([1, 2, 3, 4], [1, 2, 3, 4, 5], [1, 2, 3, 4])\n",
    "Q, R = bandedqr(A)\n",
    "@test Q*R ≈ A"
   ]
  },
  {
   "cell_type": "markdown",
   "metadata": {},
   "source": [
    "### III.6.3 QR and least squares"
   ]
  },
  {
   "cell_type": "markdown",
   "metadata": {},
   "source": [
    "When we type `A \\ b` with a rectangular matrix `A` it is\n",
    "solving a least squares system, and behind the scenes it is using a QR factorisation.\n",
    "We can see this via the inbulit `qr` function"
   ]
  },
  {
   "cell_type": "code",
   "execution_count": 36,
   "metadata": {},
   "outputs": [
    {
     "data": {
      "text/plain": [
       "LinearAlgebra.QRCompactWY{Float64, Matrix{Float64}}\n",
       "Q factor:\n",
       "200×200 LinearAlgebra.QRCompactWYQ{Float64, Matrix{Float64}}:\n",
       " -0.090397     0.0349234    0.0522127   …  -0.0784188   -0.113031\n",
       "  0.128346    -0.116031    -0.0371368      -0.0240599   -0.0753319\n",
       "  0.0185748   -0.00456704  -0.0290237       0.0131451    0.00214515\n",
       " -0.033694     0.0940443   -0.0861065      -0.058698     0.0147346\n",
       " -0.0222219   -0.0136734   -0.077512       -0.0110547   -0.0187578\n",
       "  0.0527347   -0.0231176   -0.0423819   …   0.0200723    0.0205715\n",
       " -0.0243438    0.00467213   0.0724933      -0.0738947    0.00411624\n",
       " -0.0096651    0.117121     0.0268756       0.0641198   -0.0544105\n",
       "  0.0155246    0.134026     0.00887688      0.0555357   -0.0520731\n",
       " -0.0500381   -0.185573    -0.171882        0.0657933   -0.0121943\n",
       "  ⋮                                     ⋱               \n",
       " -0.00191908   0.0722474   -0.103801        0.122259    -0.0840985\n",
       " -0.0129383   -0.0453873    0.0143354       0.0859418   -0.0300949\n",
       "  0.0168615   -0.060117    -0.0090239       0.0288966    0.0213372\n",
       " -0.0875865    0.00528594   0.0274643       0.00626434   0.0506799\n",
       " -0.142663     0.0653388    0.0346088   …  -0.109004     0.0661564\n",
       " -0.0536053    0.0153054    0.0183269       0.131065    -0.00053535\n",
       "  0.163121    -0.0698576    0.0795696      -0.0609785    0.0277153\n",
       "  0.119958     0.0536916   -0.0226199      -0.050465     0.0308239\n",
       "  0.0452245   -0.0456435    0.0347416      -0.119418     0.0115744\n",
       "R factor:\n",
       "200×200 Matrix{Float64}:\n",
       " -13.4767   2.42295    0.708758  …  -0.28616     1.29457     0.535329\n",
       "   0.0     13.7963     0.374822     -0.327513    0.51956    -0.690427\n",
       "   0.0      0.0      -12.4792        0.093937    0.557662   -0.837667\n",
       "   0.0      0.0        0.0          -0.575276   -1.03224    -0.578088\n",
       "   0.0      0.0        0.0           1.62657    -1.4286     -0.875981\n",
       "   0.0      0.0        0.0       …  -0.303558   -0.253121   -1.09815\n",
       "   0.0      0.0        0.0          -0.0712233  -0.0445682   1.11266\n",
       "   0.0      0.0        0.0           1.04857    -0.268198   -1.63764\n",
       "   0.0      0.0        0.0           0.88374     0.0650383   0.242707\n",
       "   0.0      0.0        0.0          -0.459885    0.195869    2.05754\n",
       "   ⋮                             ⋱                          \n",
       "   0.0      0.0        0.0           1.41883    -1.48229    -0.609157\n",
       "   0.0      0.0        0.0           1.08209     0.601573   -0.64386\n",
       "   0.0      0.0        0.0          -0.861895    0.862414   -0.980719\n",
       "   0.0      0.0        0.0          -0.680834    0.798715   -1.6017\n",
       "   0.0      0.0        0.0       …  -0.67999     0.431879   -0.299114\n",
       "   0.0      0.0        0.0          -0.616491   -1.03748     1.30906\n",
       "   0.0      0.0        0.0           1.9779     -0.094278    0.785678\n",
       "   0.0      0.0        0.0           0.0         1.90362     0.848001\n",
       "   0.0      0.0        0.0           0.0         0.0         0.272705"
      ]
     },
     "metadata": {},
     "output_type": "display_data"
    }
   ],
   "source": [
    "A = randn(200,200)\n",
    "b = randn(200)\n",
    "\n",
    "Q,R̂ = qr(A)"
   ]
  },
  {
   "cell_type": "markdown",
   "metadata": {},
   "source": [
    "Here `Q` is a special type representing an orthogonal matrix.\n",
    "`R̂` is an `UpperTriangular`, that is, we only store the upper triangular\n",
    "entries of `R` (which is the same as the reduced QR factorisation).\n",
    "Thus to solve a least squares problem we need to drop the extra entries as\n",
    "follows:"
   ]
  },
  {
   "cell_type": "code",
   "execution_count": 33,
   "metadata": {},
   "outputs": [
    {
     "ename": "DimensionMismatch",
     "evalue": "DimensionMismatch(\"dot product arguments have lengths 600 and 200\")",
     "output_type": "error",
     "traceback": [
      "DimensionMismatch(\"dot product arguments have lengths 600 and 200\")\n",
      "\n",
      "Stacktrace:\n",
      " [1] _dot_length_check\n",
      "   @ /opt/julia-1.7.0/share/julia/stdlib/v1.7/LinearAlgebra/src/blas.jl:359 [inlined]\n",
      " [2] dot(x::Vector{Float64}, y::Vector{Float64})\n",
      "   @ LinearAlgebra.BLAS /opt/julia-1.7.0/share/julia/stdlib/v1.7/LinearAlgebra/src/blas.jl:390\n",
      " [3] dot\n",
      "   @ /opt/julia-1.7.0/share/julia/stdlib/v1.7/LinearAlgebra/src/matmul.jl:9 [inlined]\n",
      " [4] *\n",
      "   @ /opt/julia-1.7.0/share/julia/stdlib/v1.7/LinearAlgebra/src/adjtrans.jl:291 [inlined]\n",
      " [5] *\n",
      "   @ ~/learn-by-practise/numericalAnalysisICL/jl_notebook_cell_df34fa98e69747e1a8f8a730347b8e2f_X35sdnNjb2RlLXJlbW90ZQ==.jl:16 [inlined]\n",
      " [6] *(Q::Reflections{Float64}, x::Vector{Float64})\n",
      "   @ Main ~/learn-by-practise/numericalAnalysisICL/jl_notebook_cell_df34fa98e69747e1a8f8a730347b8e2f_X42sdnNjb2RlLXJlbW90ZQ==.jl:13\n",
      " [7] top-level scope\n",
      "   @ ~/learn-by-practise/numericalAnalysisICL/jl_notebook_cell_df34fa98e69747e1a8f8a730347b8e2f_Y103sdnNjb2RlLXJlbW90ZQ==.jl:1"
     ]
    }
   ],
   "source": [
    "c = Q'b # invert Q\n",
    "c̃ = c[1:size(R̂,1)] # drop extra entries\n",
    "@test A \\ b ≈ R̂ \\ c̃"
   ]
  },
  {
   "cell_type": "markdown",
   "metadata": {},
   "source": [
    "**Problem 5** Complete the function `leastsquares(A, b)` that uses your\n",
    "`householderqr` function to solve a least squares problem."
   ]
  },
  {
   "cell_type": "code",
   "execution_count": 37,
   "metadata": {},
   "outputs": [
    {
     "data": {
      "text/plain": [
       "\u001b[32m\u001b[1mTest Passed\u001b[22m\u001b[39m\n",
       "  Expression: A \\ b ≈ leastsquares(A, b)\n",
       "   Evaluated: [0.2076089874803123, -1.5781490783413468, 0.3212273248647892, 0.8297465567801846, -1.0226846749779552, 2.311814224025939, 1.571050464849211, -2.0117093369421526, 0.19847639908373518, 0.10046229746289151  …  2.1284395913820644, 1.0833593770451524, 0.1930947613487933, -1.747447962305926, -1.6468976394537547, -1.6150949857567785, 2.8028543990135626, -0.8731367906119285, -0.41005708518225215, 3.964660537694465] ≈ [0.2076089874803031, -1.578149078341378, 0.3212273248648203, 0.8297465567802076, -1.022684674978001, 2.311814224025943, 1.5710504648492318, -2.011709336942161, 0.1984763990837821, 0.10046229746291392  …  2.1284395913821155, 1.0833593770451526, 0.19309476134878123, -1.7474479623059949, -1.6468976394537918, -1.6150949857568013, 2.8028543990136083, -0.873136790611929, -0.41005708518227946, 3.964660537694527]"
      ]
     },
     "metadata": {},
     "output_type": "display_data"
    }
   ],
   "source": [
    "function leastsquares(A, b)\n",
    "    # TODO: use householderqr to solve a least squares problem.\n",
    "    m,n = size(A)\n",
    "    Q, R = householderqr(A)\n",
    "    UpperTriangular(R[1:n,1:n])\\(Q'b)[1:n]\n",
    "end\n",
    "\n",
    "@test A\\b ≈ leastsquares(A,b)"
   ]
  },
  {
   "cell_type": "markdown",
   "metadata": {},
   "source": [
    "---\n",
    "\n",
    "*This notebook was generated using [Literate.jl](https://github.com/fredrikekre/Literate.jl).*"
   ]
  }
 ],
 "metadata": {
  "kernelspec": {
   "display_name": "Julia 1.7.0",
   "language": "julia",
   "name": "julia-1.7"
  },
  "language_info": {
   "file_extension": ".jl",
   "mimetype": "application/julia",
   "name": "julia",
   "version": "1.7.0"
  }
 },
 "nbformat": 4,
 "nbformat_minor": 3
}
