{
 "cells": [
  {
   "cell_type": "markdown",
   "metadata": {},
   "source": [
    "# MATH50003 (2023–24)\n",
    "# Lab 4: II.3 Floating Point Arithmetic and II.4 Interval Arithmetic"
   ]
  },
  {
   "cell_type": "markdown",
   "metadata": {},
   "source": [
    "This lab explores the usage of rounding modes for floating point arithmetic and how they\n",
    "can be used to compute _rigorous_ bounds on mathematical constants such as `ℯ`.\n",
    "The key idea is using _interval arithmetic_ to compute the Taylor series which is\n",
    "combined with a bound on the error caused by truncating a Taylor series.\n",
    "As a fun example, we compute the first 1000 digits of `ℯ`, backed up by a rigorous\n",
    "computation."
   ]
  },
  {
   "cell_type": "markdown",
   "metadata": {},
   "source": [
    "**Learning Outcomes**\n",
    "\n",
    "Mathematical knowledge:\n",
    "\n",
    "1. Behaviour of floating point rounding and interval arithmetic.\n",
    "2. Extending interval arithmetic operations to non-positive intervals.\n",
    "3. Combining interval arithmetic with Taylor series bounds for rigorous computations.\n",
    "\n",
    "Coding knowledge:\n",
    "\n",
    "1. Setting the rounding mode in constructors like `Float32` and via `setrounding`.\n",
    "2. High precision floating point numbers via `big` and setting precision via `setprecision`.\n",
    "3. The `promote` command for converting multiple variables to be the same type.\n",
    "4. Using `&&` for \"and\" and `||` for \"or\"."
   ]
  },
  {
   "cell_type": "markdown",
   "metadata": {},
   "source": [
    "We need the following packages:"
   ]
  },
  {
   "cell_type": "code",
   "execution_count": 2,
   "metadata": {},
   "outputs": [],
   "source": [
    "using ColorBitstring, SetRounding, Test"
   ]
  },
  {
   "cell_type": "markdown",
   "metadata": {},
   "source": [
    "## II.3 Floating Point Arithmetic"
   ]
  },
  {
   "cell_type": "markdown",
   "metadata": {},
   "source": [
    "In Julia, the rounding mode is specified by tags `RoundUp`, `RoundDown`, and\n",
    "`RoundNearest`. (There are also more exotic rounding strategies `RoundToZero`, `RoundNearestTiesAway` and\n",
    "`RoundNearestTiesUp` that we won't use.)"
   ]
  },
  {
   "cell_type": "markdown",
   "metadata": {},
   "source": [
    "Let's try rounding a `Float64` to a `Float32`."
   ]
  },
  {
   "cell_type": "code",
   "execution_count": 3,
   "metadata": {},
   "outputs": [
    {
     "name": "stdout",
     "output_type": "stream",
     "text": [
      "\u001b[31m0\u001b[0m\u001b[32m01111111101\u001b[0m\u001b[34m0101010101010101010101010101010101010101010101010101\u001b[0m\n",
      "\u001b[31m0\u001b[0m\u001b[32m01111101\u001b[0m\u001b[34m01010101010101010101011\u001b[0m"
     ]
    }
   ],
   "source": [
    "printlnbits(1/3)  # 64 bits\n",
    "printbits(Float32(1/3))  # round to nearest 32-bit"
   ]
  },
  {
   "cell_type": "markdown",
   "metadata": {},
   "source": [
    "The default rounding mode can be changed:"
   ]
  },
  {
   "cell_type": "code",
   "execution_count": 4,
   "metadata": {},
   "outputs": [
    {
     "name": "stdout",
     "output_type": "stream",
     "text": [
      "\u001b[31m0\u001b[0m\u001b[32m01111101\u001b[0m\u001b[34m01010101010101010101010\u001b[0m"
     ]
    }
   ],
   "source": [
    "printbits(Float32(1/3,RoundDown) ) # Rounds from a Float64 to Float32, rounding down"
   ]
  },
  {
   "cell_type": "markdown",
   "metadata": {},
   "source": [
    "Or alternatively we can change the rounding mode for a chunk of code\n",
    "using `setrounding`. The following computes upper and lower bounds for `/`:"
   ]
  },
  {
   "cell_type": "code",
   "execution_count": 5,
   "metadata": {},
   "outputs": [
    {
     "data": {
      "text/plain": [
       "(0.3333333f0, 0.33333334f0)"
      ]
     },
     "metadata": {},
     "output_type": "display_data"
    }
   ],
   "source": [
    "x = 1f0\n",
    "setrounding(Float32, RoundDown) do\n",
    "    x/3\n",
    "end,\n",
    "setrounding(Float32, RoundUp) do\n",
    "    x/3\n",
    "end"
   ]
  },
  {
   "cell_type": "markdown",
   "metadata": {},
   "source": [
    "**WARNING (compiled constants)**: Why did we first create a variable `x` instead of typing `1f0/3`?\n",
    "This is due to a very subtle issue where the compiler is _too clever for it's own good_:\n",
    "it recognises `1f0/3` can be computed at compile time, but failed to recognise the rounding mode\n",
    "was changed."
   ]
  },
  {
   "cell_type": "markdown",
   "metadata": {},
   "source": [
    "**Problem 1** Complete functions `exp_t_3_down`/`exp_t_3_up` implementing the first\n",
    "three terms of the Taylor expansion of $\\exp(x)$, that is, $1 + x + x^2/2 + x^3/6$ but where\n",
    "each operation is rounded down/up. Use `typeof(x)` to make sure you are changing the\n",
    "rounding mode for the right floating point type."
   ]
  },
  {
   "cell_type": "code",
   "execution_count": 8,
   "metadata": {},
   "outputs": [
    {
     "data": {
      "text/plain": [
       "\u001b[32m\u001b[1mTest Passed\u001b[22m\u001b[39m\n",
       "  Expression: exp_t_3_up(Float32(1)) ≡ 2.6666667f0\n",
       "   Evaluated: 2.6666667f0 ≡ 2.6666667f0"
      ]
     },
     "metadata": {},
     "output_type": "display_data"
    }
   ],
   "source": [
    "function exp_t_3_down(x)\n",
    "    T = typeof(x) # use this to set the rounding mode\n",
    "    # TODO: use setrounding to compute 1 + x + x/2 + x^2/6 but rounding down\n",
    "    setrounding(T, RoundDown) do\n",
    "        return 1 + x + x/2 + x^2/6\n",
    "    end\n",
    "end\n",
    "\n",
    "function exp_t_3_up(x)\n",
    "    # TODO: use setrounding to compute 1 + x + x/2 + x^2/6 but rounding up\n",
    "    setrounding(typeof(x), RoundUp) do\n",
    "        return 1 + x + x/2 + x^2/6\n",
    "    end\n",
    "end\n",
    "\n",
    "@test exp_t_3_down(Float32(1)) ≡ 2.6666665f0 # ≡ checks type and all bits are equal\n",
    "@test exp_t_3_up(Float32(1)) ≡ 2.6666667f0"
   ]
  },
  {
   "cell_type": "markdown",
   "metadata": {},
   "source": [
    "### High-precision floating-point numbers"
   ]
  },
  {
   "cell_type": "markdown",
   "metadata": {},
   "source": [
    "It is possible to get higher precision (more signficand and exponent bits)\n",
    " of a floating-point number\n",
    "using the `BigFloat` type, which results from the usage of `big`\n",
    "when the result is not an integer.\n",
    "For example, here is an approximation of 1/3 accurate\n",
    "to 77 decimal digits:"
   ]
  },
  {
   "cell_type": "code",
   "execution_count": 9,
   "metadata": {},
   "outputs": [
    {
     "data": {
      "text/plain": [
       "0.3333333333333333333333333333333333333333333333333333333333333333333333333333348"
      ]
     },
     "metadata": {},
     "output_type": "display_data"
    }
   ],
   "source": [
    "big(1)/3"
   ]
  },
  {
   "cell_type": "markdown",
   "metadata": {},
   "source": [
    "Note we can set the rounding mode as in `Float64`, e.g.,\n",
    "this gives (rigorous) bounds on\n",
    "`1/3`:"
   ]
  },
  {
   "cell_type": "code",
   "execution_count": 11,
   "metadata": {},
   "outputs": [
    {
     "data": {
      "text/plain": [
       "(0.3333333333333333333333333333333333333333333333333333333333333333333333333333305, 0.3333333333333333333333333333333333333333333333333333333333333333333333333333348)"
      ]
     },
     "metadata": {},
     "output_type": "display_data"
    }
   ],
   "source": [
    "setrounding(BigFloat, RoundDown) do\n",
    "  big(1)/3\n",
    "end, setrounding(BigFloat, RoundUp) do\n",
    "  big(1)/3\n",
    "end"
   ]
  },
  {
   "cell_type": "markdown",
   "metadata": {},
   "source": [
    "We can also increase the precision, e.g., this finds bounds on `1/3` accurate to\n",
    "more than 1000 decimal places:"
   ]
  },
  {
   "cell_type": "code",
   "execution_count": 12,
   "metadata": {},
   "outputs": [
    {
     "data": {
      "text/plain": [
       "(0.333333333333333333333333333333333333333333333333333333333333333333333333333333333333333333333333333333333333333333333333333333333333333333333333333333333333333333333333333333333333333333333333333333333333333333333333333333333333333333333333333333333333333333333333333333333333333333333333333333333333333333333333333333333333333333333333333333333333333333333333333333333333333333333333333333333333333333333333333333333333333333333333333333333333333333333333333333333333333333333333333333333333333333333333333333333333333333333333333333333333333333333333333333333333333333333333333333333333333333333333333333333333333333333333333333333333333333333333333333333333333333333333333333333333333333333333333333333333333333333333333333333333333333333333333333333333333333333333333333333333333333333333333333333333333333333333333333333333333333333333333333333333333333333333333333333333333333333333333333333333333333333333333333333333333333333333333333333333333333333333333333333333333333333333333333333333333333333333333333333333333333333333333333333333333333333333333333333333333333333333333333333333333333333333333333333333333333333333333333333333333333333333333333333333333333333333333333333333333333333333333308, 0.333333333333333333333333333333333333333333333333333333333333333333333333333333333333333333333333333333333333333333333333333333333333333333333333333333333333333333333333333333333333333333333333333333333333333333333333333333333333333333333333333333333333333333333333333333333333333333333333333333333333333333333333333333333333333333333333333333333333333333333333333333333333333333333333333333333333333333333333333333333333333333333333333333333333333333333333333333333333333333333333333333333333333333333333333333333333333333333333333333333333333333333333333333333333333333333333333333333333333333333333333333333333333333333333333333333333333333333333333333333333333333333333333333333333333333333333333333333333333333333333333333333333333333333333333333333333333333333333333333333333333333333333333333333333333333333333333333333333333333333333333333333333333333333333333333333333333333333333333333333333333333333333333333333333333333333333333333333333333333333333333333333333333333333333333333333333333333333333333333333333333333333333333333333333333333333333333333333333333333333333333333333333333333333333333333333333333333333333333333333333333333333333333333333333333333333333333333333333333333333333333346)"
      ]
     },
     "metadata": {},
     "output_type": "display_data"
    }
   ],
   "source": [
    "setprecision(4_000) do # 4000 bit precision\n",
    "  setrounding(BigFloat, RoundDown) do\n",
    "    big(1)/3\n",
    "  end, setrounding(BigFloat, RoundUp) do\n",
    "    big(1)/3\n",
    "  end\n",
    "end"
   ]
  },
  {
   "cell_type": "markdown",
   "metadata": {},
   "source": [
    "**Problem 2** Inbuilt functions like `exp`, `sqrt`, etc. support `BigFloat`.\n",
    "Compute at least the first thousand decimal digits of `ℯ` using `setprecision`\n",
    "and the inbuilt `exp` function."
   ]
  },
  {
   "cell_type": "code",
   "execution_count": 19,
   "metadata": {},
   "outputs": [
    {
     "name": "stdout",
     "output_type": "stream",
     "text": [
      "length(x) = 1207\n"
     ]
    },
    {
     "data": {
      "text/plain": [
       "2.71828182845904523536028747135266249775724709369995957496696762772407663035354759457138217852516642742746639193200305992181741359662904357290033429526059563073813232862794349076323382988075319525101901157383418793070215408914993488416750924476146066808226480016847741185374234544243710753907774499206955170276183860626133138458300075204493382656029760673711320070932870912744374704723069697720931014169283681902551510865746377211125238978442505695369677078544996996794686445490598793163688923009879312773617821542499922957635148220826989519366803318252886939849646510582093923982948879332036250944311730123819706841614039701983767932068328237646480429531180232878250981945581530175671736133206981125099618188159304169035159888851934580727386673858942287922849989208680582574927961048419844436346324496848756023362482704197862320900216099023530436994184914631409343173814364054625315209618369088870701676839642437814059271456354906130310720851038375051011574770417189861068739696552126715468895703503540212340784981933432106817012100562788023519303322474501585390473041995777709350366041699732972508868769664035557071622684471625607988265178713419512466520103059212366771943252786753985589448969709640975451"
      ]
     },
     "metadata": {},
     "output_type": "display_data"
    }
   ],
   "source": [
    "# TODO: Use big and setprecision to compute the first thousand digits of ℯ.\n",
    "x = setprecision(4_000) do\n",
    "    setrounding(BigFloat, RoundDown) do\n",
    "        exp(big(1))\n",
    "    end\n",
    "end\n",
    "\n",
    "print(\"length(x) = \", length(string(x)), \"\\n\")\n",
    "x"
   ]
  },
  {
   "cell_type": "markdown",
   "metadata": {},
   "source": [
    "-----\n",
    "\n",
    "## II.4 Interval Arithmetic"
   ]
  },
  {
   "cell_type": "markdown",
   "metadata": {},
   "source": [
    "We will now create a Type to represent an interval $[a,b] = {x : a ≤ x ≤ b}$, which we will call `Interval`.\n",
    "We need fields for the left endpoint (`a`) and a right endpoint (`b`):"
   ]
  },
  {
   "cell_type": "code",
   "execution_count": 20,
   "metadata": {},
   "outputs": [
    {
     "data": {
      "text/plain": [
       "Interval"
      ]
     },
     "metadata": {},
     "output_type": "display_data"
    }
   ],
   "source": [
    "struct Interval # represents the set [a,b]\n",
    "    a # left endpoint\n",
    "    b # right endpoint\n",
    "end\n",
    "\n",
    "Interval(x) = Interval(x,x) # Support Interval(1) to represent [1,1]"
   ]
  },
  {
   "cell_type": "markdown",
   "metadata": {},
   "source": [
    "For example, if we say `X = Interval(1, 2)` this corresponds to the mathematical interval\n",
    "$[1, 2]$, and the fields are accessed via `X.a` and `X.b`.\n",
    "We will overload `*`, `+`, `-`, `/` to use interval arithmetic. That is, whenever we do arithmetic with\n",
    "an instance of `Interval` we want it to use correctly rounded interval variants.\n",
    "We also need to support `one` (a function that creates an interval containing a single point `1`)\n",
    "and `in` functions (a function to test if a number is within an interval).\n",
    "To overload these functions we need to import them as follows:"
   ]
  },
  {
   "cell_type": "code",
   "execution_count": 21,
   "metadata": {},
   "outputs": [],
   "source": [
    "import Base: *, +, -, ^, /, one, in"
   ]
  },
  {
   "cell_type": "markdown",
   "metadata": {},
   "source": [
    "We overload `in` as follows:"
   ]
  },
  {
   "cell_type": "code",
   "execution_count": 22,
   "metadata": {},
   "outputs": [
    {
     "data": {
      "text/plain": [
       "in (generic function with 37 methods)"
      ]
     },
     "metadata": {},
     "output_type": "display_data"
    }
   ],
   "source": [
    "in(x, X::Interval) = X.a ≤ x ≤ X.b"
   ]
  },
  {
   "cell_type": "markdown",
   "metadata": {},
   "source": [
    "The function `in` is whats called an \"infix\" operation (just like `+`, `-`, `*`, and `/`). We can call it\n",
    "either as `in(x, X)` or put the `in` in the middle and write `x in X`. This can be seen in the following:"
   ]
  },
  {
   "cell_type": "code",
   "execution_count": 24,
   "metadata": {},
   "outputs": [
    {
     "data": {
      "text/plain": [
       "(true, true)"
      ]
     },
     "metadata": {},
     "output_type": "display_data"
    }
   ],
   "source": [
    "X = Interval(2.0,3.3)\n",
    "# 2.5 in X is equivalent to in(2.5, X)\n",
    "# !(3.4 in X) is equivalent to !in(3.4, X)\n",
    "2.5 in X, !(3.4 in X)"
   ]
  },
  {
   "cell_type": "markdown",
   "metadata": {},
   "source": [
    "We can overload `one` as follows to create an interval corresponding to $[1,1]$.\n",
    "The `one(T)` function will create the \"multiplicative identity\"\n",
    "for a given type. For example `one(Int)` will return `1`, `one(Float64)` returns `1.0`,\n",
    "and `one(String)` returns \"\" (because `\"\" * \"any string\" == \"any string\"`):"
   ]
  },
  {
   "cell_type": "code",
   "execution_count": 25,
   "metadata": {},
   "outputs": [
    {
     "data": {
      "text/plain": [
       "(1, 1, \"\")"
      ]
     },
     "metadata": {},
     "output_type": "display_data"
    }
   ],
   "source": [
    "one(Int), one(Int64), one(String)"
   ]
  },
  {
   "cell_type": "markdown",
   "metadata": {},
   "source": [
    "We can also just call it on an instance of the type:"
   ]
  },
  {
   "cell_type": "code",
   "execution_count": 26,
   "metadata": {},
   "outputs": [
    {
     "data": {
      "text/plain": [
       "(1, 1.0, \"\")"
      ]
     },
     "metadata": {},
     "output_type": "display_data"
    }
   ],
   "source": [
    "one(2), one(2.0), one(\"any string\")"
   ]
  },
  {
   "cell_type": "markdown",
   "metadata": {},
   "source": [
    "For an interval the multiplicative identity is the interval whose lower and upper limit are both 1.\n",
    "To ensure its the right type we call `one(X.a)` and `one(X.b)`"
   ]
  },
  {
   "cell_type": "code",
   "execution_count": 27,
   "metadata": {},
   "outputs": [
    {
     "data": {
      "text/plain": [
       "one (generic function with 20 methods)"
      ]
     },
     "metadata": {},
     "output_type": "display_data"
    }
   ],
   "source": [
    "one(X::Interval) = Interval(one(X.a), one(X.b))"
   ]
  },
  {
   "cell_type": "markdown",
   "metadata": {},
   "source": [
    "Thus the following returns an interval whose endpoints are both `1.0`:"
   ]
  },
  {
   "cell_type": "code",
   "execution_count": 28,
   "metadata": {},
   "outputs": [
    {
     "data": {
      "text/plain": [
       "Interval(1.0, 1.0)"
      ]
     },
     "metadata": {},
     "output_type": "display_data"
    }
   ],
   "source": [
    "one(Interval(2.0,3.3))"
   ]
  },
  {
   "cell_type": "markdown",
   "metadata": {},
   "source": [
    "We now want to overload the operations `+`, `/` and `*` so that we can compute the Taylor\n",
    "series of `exp`. We begin with `+`."
   ]
  },
  {
   "cell_type": "code",
   "execution_count": 29,
   "metadata": {},
   "outputs": [
    {
     "data": {
      "text/plain": [
       "Interval(3.5999999999999996, 3.6000000000000005)"
      ]
     },
     "metadata": {},
     "output_type": "display_data"
    }
   ],
   "source": [
    "function +(X::Interval, Y::Interval)\n",
    "    a,b,c,d = promote(X.a, X.b, Y.a, Y.b) # make sure all are the same type\n",
    "    T = typeof(a)\n",
    "    α = setrounding(T, RoundDown) do\n",
    "        a + c\n",
    "    end\n",
    "    β = setrounding(T, RoundUp) do\n",
    "        b + d\n",
    "    end\n",
    "    Interval(α, β)\n",
    "end\n",
    "\n",
    "\n",
    "+(x::Number, Y::Interval) = Interval(x) + Y # Number is a supertype that contains Int, Float64, etc.\n",
    "+(X::Interval, y::Number) = X + Interval(y)\n",
    "\n",
    "\n",
    "# following example was the non-associative example but now we have bounds\n",
    "Interval(1.1) + Interval(1.2) + Interval(1.3)\n",
    "\n",
    "# note we are actually doing computations on ${\\rm fl}^{nearest}(1.1)$, etc.,\n",
    "# that is, we haven't accounted in the errors from making the constants."
   ]
  },
  {
   "cell_type": "markdown",
   "metadata": {},
   "source": [
    "We now implement division, checking that our assumptions\n",
    "are satified. Note that `&&` means \"and\" whilst `||` means \"or\",\n",
    "While `!` changes a `true` to `false` and vice-versa."
   ]
  },
  {
   "cell_type": "code",
   "execution_count": 30,
   "metadata": {},
   "outputs": [
    {
     "data": {
      "text/plain": [
       "Interval(0.3333333333333333, 0.6666666666666667)"
      ]
     },
     "metadata": {},
     "output_type": "display_data"
    }
   ],
   "source": [
    "function /(X::Interval, n::Int)\n",
    "    a,b = promote(X.a, X.b)\n",
    "    T = typeof(a)\n",
    "    if !(n > 0 && 0 < a ≤ b)\n",
    "        error(\"Input doesn't satisfy positivity assumptions\")\n",
    "    end\n",
    "    α = setrounding(T, RoundDown) do\n",
    "            a / n\n",
    "    end\n",
    "    β = setrounding(T, RoundUp) do\n",
    "            b / n\n",
    "    end\n",
    "    Interval(α, β)\n",
    "end\n",
    "\n",
    "Interval(1.0,2.0)/3 # rounds bottom down and top up "
   ]
  },
  {
   "cell_type": "markdown",
   "metadata": {},
   "source": [
    "Finally we overload `*` to behave like the operation `⊗`:"
   ]
  },
  {
   "cell_type": "code",
   "execution_count": 31,
   "metadata": {},
   "outputs": [
    {
     "data": {
      "text/plain": [
       "* (generic function with 365 methods)"
      ]
     },
     "metadata": {},
     "output_type": "display_data"
    }
   ],
   "source": [
    "function *(X::Interval, Y::Interval)\n",
    "    a,b,c,d = promote(X.a, X.b, Y.a, Y.b)\n",
    "    T = typeof(a)\n",
    "    if !(0 < a ≤ b && 0 < c ≤ d)\n",
    "        error(\"Input doesn't satisfy positivity assumptions\")\n",
    "    end\n",
    "    α = setrounding(T, RoundDown) do\n",
    "            a * c\n",
    "    end\n",
    "    β = setrounding(T, RoundUp) do\n",
    "            b * d\n",
    "    end\n",
    "    Interval(α, β)\n",
    "end"
   ]
  },
  {
   "cell_type": "markdown",
   "metadata": {},
   "source": [
    "Let's also support powers:"
   ]
  },
  {
   "cell_type": "code",
   "execution_count": 32,
   "metadata": {},
   "outputs": [
    {
     "data": {
      "text/plain": [
       "^ (generic function with 70 methods)"
      ]
     },
     "metadata": {},
     "output_type": "display_data"
    }
   ],
   "source": [
    "function ^(X::Interval, k::Int)\n",
    "    if k ≤ 0\n",
    "        error(\"not supported\")\n",
    "    elseif k == 1\n",
    "        X\n",
    "    else\n",
    "        X * X^(k-1)\n",
    "    end\n",
    "end"
   ]
  },
  {
   "cell_type": "markdown",
   "metadata": {},
   "source": [
    "We can now compute positive polynomials with interval arithmetic:"
   ]
  },
  {
   "cell_type": "code",
   "execution_count": 33,
   "metadata": {},
   "outputs": [
    {
     "data": {
      "text/plain": [
       "Interval(2.708333333333333, 2.708333333333334)"
      ]
     },
     "metadata": {},
     "output_type": "display_data"
    }
   ],
   "source": [
    "X = Interval(1.0)\n",
    "1 + X + X^2/2 + X^3/6 + X^4/24"
   ]
  },
  {
   "cell_type": "markdown",
   "metadata": {},
   "source": [
    "------"
   ]
  },
  {
   "cell_type": "markdown",
   "metadata": {},
   "source": [
    "**Problem 3(a)** Complete the following implementations of `-` to correctly round\n",
    "the endpoints in interval negation and subtraction."
   ]
  },
  {
   "cell_type": "code",
   "execution_count": 46,
   "metadata": {},
   "outputs": [
    {
     "data": {
      "text/plain": [
       "\u001b[32m\u001b[1mTest Passed\u001b[22m\u001b[39m\n",
       "  Expression: Interval(0.1, 0.2) - Interval(1.1, 1.2) ≡ Interval(-1.1, -0.9)\n",
       "   Evaluated: Interval(-1.1, -0.9) ≡ Interval(-1.1, -0.9)"
      ]
     },
     "metadata": {},
     "output_type": "display_data"
    }
   ],
   "source": [
    "import Base: -\n",
    "\n",
    "function -(X::Interval)\n",
    "    a,b = promote(X.a, X.b)\n",
    "    # TODO: return an interval representing {-x : x in X}\n",
    "    Interval(-b, -a)\n",
    "end\n",
    "\n",
    "function -(X::Interval, Y::Interval)\n",
    "    a,b,c,d = promote(X.a, X.b, Y.a, Y.b)\n",
    "    T = typeof(a)\n",
    "    # TODO: return an interval implementing X ⊖ Y\n",
    "    α = setrounding(T, RoundDown) do\n",
    "        a - d\n",
    "    end\n",
    "    β = setrounding(T, RoundUp) do\n",
    "        b - c\n",
    "    end\n",
    "\n",
    "    Interval(α, β)    \n",
    "end\n",
    "\n",
    "@test -Interval(0.1,0.2) == Interval(-0.2, -0.1)\n",
    "@test Interval(0.1,0.2) - Interval(1.1,1.2) ≡ Interval(-1.1, -0.9)"
   ]
  },
  {
   "cell_type": "markdown",
   "metadata": {},
   "source": [
    "**Problem 3(b)** Alter the implementation of `/(X::Interval, n::Int)`\n",
    "to support the case where `n < 0` and `*` to remove the restrictions on\n",
    "positivity of the endpoints. You may assume the intervals are non-empty."
   ]
  },
  {
   "cell_type": "code",
   "execution_count": 36,
   "metadata": {},
   "outputs": [
    {
     "data": {
      "text/plain": [
       "\u001b[32m\u001b[1mTest Passed\u001b[22m\u001b[39m\n",
       "  Expression: Interval(-1.0, 2) * Interval(-3, 5) ≡ Interval(-6.0, 10.0)\n",
       "   Evaluated: Interval(-6.0, 10.0) ≡ Interval(-6.0, 10.0)"
      ]
     },
     "metadata": {},
     "output_type": "display_data"
    }
   ],
   "source": [
    "# TODO: overload / and *, again.\n",
    "function /(X::Interval, n::Int)\n",
    "    a,b = promote(X.a, X.b)\n",
    "    if n == 0\n",
    "        error(\"Division by zero\")\n",
    "    end\n",
    "\n",
    "    T = typeof(a)\n",
    "\n",
    "    α = setrounding(T, RoundDown) do\n",
    "            n > 0 ? a / n : b / n\n",
    "    end\n",
    "    β = setrounding(T, RoundUp) do\n",
    "            n > 0 ? b / n : a / n\n",
    "    end\n",
    "    Interval(α, β)\n",
    "end\n",
    "\n",
    "function *(X::Interval, Y::Interval)\n",
    "    a,b,c,d = promote(X.a, X.b, Y.a, Y.b)\n",
    "    T = typeof(a)\n",
    "    α = setrounding(T, RoundDown) do\n",
    "            min(a*c, a*d, b*c, b*d)\n",
    "    end\n",
    "    β = setrounding(T, RoundUp) do\n",
    "            max(a*c, a*d, b*c, b*d)\n",
    "    end\n",
    "    Interval(α, β)\n",
    "    \n",
    "end\n",
    "\n",
    "@test Interval(1.1, 1.2) * Interval(2.1, 3.1) ≡ Interval(2.31, 3.72)\n",
    "@test Interval(-1.2, -1.1) * Interval(2.1, 3.1) ≡ Interval(-3.72, -2.31)\n",
    "@test Interval(1.1, 1.2) * Interval(-3.1, -2.1) ≡ Interval(-3.72, -2.31)\n",
    "@test Interval(-1.2, -1.1) * Interval(-3.1, -2.1) ≡ Interval(2.31, 3.72)\n",
    "\n",
    "\n",
    "@test Interval(1.0,2.0)/3 ≡ Interval(0.3333333333333333, 0.6666666666666667)\n",
    "@test Interval(1.0,2.0)/(-3) ≡ Interval(-0.6666666666666667, -0.3333333333333333)\n",
    "\n",
    "@test Interval(-1., 2) * Interval(2,3) ≡ Interval(-3.0, 6.0)\n",
    "@test Interval(-1., 2) * Interval(-3,5) ≡ Interval(-6.0, 10.0)"
   ]
  },
  {
   "cell_type": "markdown",
   "metadata": {},
   "source": [
    "-----"
   ]
  },
  {
   "cell_type": "markdown",
   "metadata": {},
   "source": [
    "The following function  computes the first `n+1` terms of the Taylor series of $\\exp(x)$:\n",
    "$$\n",
    "\\sum_{k=0}^n {x^k \\over k!}\n",
    "$$\n",
    "We avoid using `factorial` to avoid underflow/overflow."
   ]
  },
  {
   "cell_type": "code",
   "execution_count": 37,
   "metadata": {},
   "outputs": [
    {
     "data": {
      "text/plain": [
       "Interval(2.718281828459041, 2.7182818284590846)"
      ]
     },
     "metadata": {},
     "output_type": "display_data"
    }
   ],
   "source": [
    "function exp_t(x, n)\n",
    "    ret = one(x)\n",
    "    s = one(x)\n",
    "    for k = 1:n\n",
    "        s = s/k * x\n",
    "        ret = ret + s\n",
    "    end\n",
    "    ret\n",
    "end\n",
    "\n",
    "exp_t(X, 100) # Taylor series with interval arithmetic"
   ]
  },
  {
   "cell_type": "markdown",
   "metadata": {},
   "source": [
    "In the notes we derived a bound assuming $0 ≤ x ≤ 1$\n",
    "on the error in Taylor series of the form $|δ_{x,n}| ≤ 3/(n+1)!$.\n",
    "Here we incorporate that error to get a rigorous bound."
   ]
  },
  {
   "cell_type": "code",
   "execution_count": 38,
   "metadata": {},
   "outputs": [
    {
     "data": {
      "text/plain": [
       "Interval(2.7182818284590406, 2.7182818284590495)"
      ]
     },
     "metadata": {},
     "output_type": "display_data"
    }
   ],
   "source": [
    "function exp_bound(X::Interval, n)\n",
    "    a,b = promote(X.a, X.b)\n",
    "    T = typeof(a)\n",
    "\n",
    "    if !(0 ≤ a ≤ b ≤ 1)\n",
    "        error(\"Interval must be a subset of [0, 1]\")\n",
    "    end\n",
    "    ret = exp_t(X, n) # the code for Taylor series should work on Interval unmodified\n",
    "    # avoid overflow in computing factorial by using `big`.\n",
    "    # Convert to type `T` to support rounding.\n",
    "    f = T(factorial(big(n + 1)),RoundDown)\n",
    "\n",
    "    δ = setrounding(T, RoundUp) do\n",
    "        T(3) / f # need to convert 3 to the right type to set the rounding\n",
    "    end\n",
    "    ret + Interval(-δ,δ)\n",
    "end\n",
    "\n",
    "E = exp_bound(Interval(1.0), 20)"
   ]
  },
  {
   "cell_type": "markdown",
   "metadata": {},
   "source": [
    "Here we test that the bounds match our expectations:"
   ]
  },
  {
   "cell_type": "code",
   "execution_count": 39,
   "metadata": {},
   "outputs": [
    {
     "data": {
      "text/plain": [
       "\u001b[32m\u001b[1mTest Passed\u001b[22m\u001b[39m\n",
       "  Expression: E.b - E.a ≤ 1.0e-13\n",
       "   Evaluated: 8.881784197001252e-15 ≤ 1.0e-13"
      ]
     },
     "metadata": {},
     "output_type": "display_data"
    }
   ],
   "source": [
    "@test exp(big(1)) in E\n",
    "@test E.b - E.a ≤ 1E-13 # we want our bounds to be sharp"
   ]
  },
  {
   "cell_type": "markdown",
   "metadata": {},
   "source": [
    "We can even use the code with `BigFloat` to compute a rigorous bound on the first\n",
    "1000 digits of `ℯ`:"
   ]
  },
  {
   "cell_type": "code",
   "execution_count": 40,
   "metadata": {},
   "outputs": [
    {
     "data": {
      "text/plain": [
       "Interval(2.71828182845904523536028747135266249775724709369995957496696762772407663035354759457138217852516642742746639193200305992181741359662904357290033429526059563073813232862794349076323382988075319525101901157383418793070215408914993488416750924476146066808226480016847741185374234544243710753907774499206955170276183860626133138458300075204493382656029760673711320070932870912744374704723069697720931014169283681902551510865746377211125238978442505695369677078544996996794686445490598793163688923009879312773617821542499922957635148220826989519366803318252886939849646510582093923982948879332036250944311730123819706841614039701983767932068328237646480429531180232878250981945581530175671736133206981125099618188159304169035159888851934580727386673858942287922849989208680582574927961048419844436346324496848756023362482704197862320900216099023530436994184914631409343173814364054625315209618369088870701676839642437814059271456354906130310720851038375051011574770417189861068739696552126715468895703503540212340784981933432106817012100562788023519303322474501585390473041995777709350366041699732972508868769664035557071622684471625607988265178713419512466520103059212366771943252786753985589448969709640967531, 2.71828182845904523536028747135266249775724709369995957496696762772407663035354759457138217852516642742746639193200305992181741359662904357290033429526059563073813232862794349076323382988075319525101901157383418793070215408914993488416750924476146066808226480016847741185374234544243710753907774499206955170276183860626133138458300075204493382656029760673711320070932870912744374704723069697720931014169283681902551510865746377211125238978442505695369677078544996996794686445490598793163688923009879312773617821542499922957635148220826989519366803318252886939849646510582093923982948879332036250944311730123819706841614039701983767932068328237646480429531180232878250981945581530175671736133206981125099618188159304169035159888851934580727386673858942287922849989208680582574927961048419844436346324496848756023362482704197862320900216099023530436994184914631409343173814364054625315209618369088870701676839642437814059271456354906130310720851038375051011574770417189861068739696552126715468895703503540212340784981933432106817012100562788023519303322474501585390473041995777709350366041699732972508868769664035557071622684471625607988265178713419512466520103059212366771943252786753985589448969709640997875)"
      ]
     },
     "metadata": {},
     "output_type": "display_data"
    }
   ],
   "source": [
    "e_int_big = setprecision(4_000) do\n",
    "    exp_bound(Interval(big(1.0)), 1000)\n",
    "end"
   ]
  },
  {
   "cell_type": "markdown",
   "metadata": {},
   "source": [
    "Our tests show that this has computed more than 1000 digits:"
   ]
  },
  {
   "cell_type": "code",
   "execution_count": 41,
   "metadata": {},
   "outputs": [
    {
     "data": {
      "text/plain": [
       "\u001b[32m\u001b[1mTest Passed\u001b[22m\u001b[39m\n",
       "  Expression: e_int_big.b - e_int_big.a ≤ big(10.0) ^ -1200\n",
       "   Evaluated: 3.034431481386951428892482121474734860326074004450847814270835982780614574185589e-1201 ≤ 1.000000000000000000000000000000000000000000000000000000000000000000000000000005e-1200"
      ]
     },
     "metadata": {},
     "output_type": "display_data"
    }
   ],
   "source": [
    "@test ℯ in e_int_big # we contain ℯ\n",
    "@test e_int_big.b - e_int_big.a ≤ big(10.0)^(-1200) # with 1200 digits of accuracy!"
   ]
  },
  {
   "cell_type": "markdown",
   "metadata": {},
   "source": [
    "------\n",
    "**Problem 4** Extend the implementation of `exp_bound` for the case when `-2 ≤ x ≤ 2`."
   ]
  },
  {
   "cell_type": "code",
   "execution_count": 44,
   "metadata": {},
   "outputs": [
    {
     "data": {
      "text/plain": [
       "\u001b[32m\u001b[1mTest Passed\u001b[22m\u001b[39m\n",
       "  Expression: exp(big(-2)) in exp_bound(Interval(-2.0), 20)\n",
       "   Evaluated: 0.1353352832366126918939994949724844034076315459095758814681588726540733741014872 in Interval(0.1353352832363214, 0.1353352832369791)"
      ]
     },
     "metadata": {},
     "output_type": "display_data"
    }
   ],
   "source": [
    "# TODO: re-overload `exp` but without the restrictions on positivity and adjusting the\n",
    "# the bound appropriately.\n",
    "function exp_bound(X::Interval, n)\n",
    "    a,b = promote(X.a, X.b)\n",
    "    T = typeof(a)\n",
    "\n",
    "    if !(-2 ≤ a ≤ b ≤ 2)\n",
    "        error(\"Interval must be a subset of [-2, 2]\")\n",
    "    end\n",
    "    \n",
    "    ret = exp_t(X, n)\n",
    "    f = T(factorial(big(n + 1)),RoundDown)\n",
    "\n",
    "    δ = setrounding(T, RoundUp) do\n",
    "        T(8) * T(2)^(n+1) / f # need to convert 3 to the right type to set the rounding\n",
    "    end\n",
    "    ret + Interval(-δ,δ)\n",
    "end\n",
    "\n",
    "@test exp(big(-2)) in exp_bound(Interval(-2.0), 20)"
   ]
  },
  {
   "cell_type": "markdown",
   "metadata": {},
   "source": [
    "**Problem 5(a)** Complete the implementation of a function `sin_t(x,n)` computing the\n",
    "first `2n+1` terms of the Taylor series:\n",
    "$$\n",
    "\\sin\\ x ≈ ∑_{k=0}^n {(-1)^k x^{2k+1} \\over (2k+1)!}\n",
    "$$"
   ]
  },
  {
   "cell_type": "code",
   "execution_count": 49,
   "metadata": {},
   "outputs": [
    {
     "data": {
      "text/plain": [
       "\u001b[32m\u001b[1mTest Passed\u001b[22m\u001b[39m\n",
       "  Expression: sin_t(big(1.0), 10) in sin_t(Interval(1.0), 10)\n",
       "   Evaluated: 0.8414709848078965066525409389542263831247347547521504910395056013623995289262479 in Interval(0.8414709848078961, 0.8414709848078972)"
      ]
     },
     "metadata": {},
     "output_type": "display_data"
    }
   ],
   "source": [
    "function sin_t(x, n)\n",
    "    ret = x\n",
    "    s = x\n",
    "    # TODO: Compute the first 2n+1 terms of the Taylor series of sin, without using the factorial function\n",
    "    for k = 1:n\n",
    "        s = -s/(2k*(2k+1)) * x^2\n",
    "        ret = ret + s\n",
    "    end\n",
    "    ret\n",
    "end\n",
    "\n",
    "@test sin_t(1.0, 10) ≈ 0.8414709848078965\n",
    "@test sin_t(big(1.0), 10) in  sin_t(Interval(1.0), 10)"
   ]
  },
  {
   "cell_type": "markdown",
   "metadata": {},
   "source": [
    "**Problem 5(b)** Complete the implementation of a function `sin_bound(x,n)` that\n",
    "includes an error bound on the computation. You may assume $0 ≤ x ≤ 1$."
   ]
  },
  {
   "cell_type": "code",
   "execution_count": 50,
   "metadata": {},
   "outputs": [
    {
     "data": {
      "text/plain": [
       "\u001b[32m\u001b[1mTest Passed\u001b[22m\u001b[39m\n",
       "  Expression: S.b - S.a ≤ 1.0e-13\n",
       "   Evaluated: 2.4424906541753444e-15 ≤ 1.0e-13"
      ]
     },
     "metadata": {},
     "output_type": "display_data"
    }
   ],
   "source": [
    "function sin_bound(X::Interval, n)\n",
    "    a,b = promote(X.a, X.b)\n",
    "    T = typeof(a)\n",
    "    # TODO: complete the implementation to include the error in truncating the Taylor series.\n",
    "    \n",
    "    ret = sin_t(X, n)\n",
    "    f = T(factorial(big(2n + 3)),RoundDown)\n",
    "\n",
    "    err = setrounding(T, RoundUp) do\n",
    "        T(1) / f\n",
    "    end\n",
    "    ret + Interval(-err,err)\n",
    "end\n",
    "\n",
    "\n",
    "S = sin_bound(Interval(1.0), 20)\n",
    "@test sin(big(1)) in S\n",
    "@test S.b - S.a ≤ 1E-13 # we want our bounds to be sharp"
   ]
  },
  {
   "cell_type": "markdown",
   "metadata": {},
   "source": [
    "---\n",
    "\n",
    "*This notebook was generated using [Literate.jl](https://github.com/fredrikekre/Literate.jl).*"
   ]
  }
 ],
 "metadata": {
  "kernelspec": {
   "display_name": "Julia 1.7.0",
   "language": "julia",
   "name": "julia-1.7"
  },
  "language_info": {
   "file_extension": ".jl",
   "mimetype": "application/julia",
   "name": "julia",
   "version": "1.7.0"
  }
 },
 "nbformat": 4,
 "nbformat_minor": 3
}
