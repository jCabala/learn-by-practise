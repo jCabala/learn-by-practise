{
 "cells": [
  {
   "cell_type": "code",
   "execution_count": 1,
   "metadata": {},
   "outputs": [],
   "source": [
    "import numpy as np\n",
    "import matplotlib.pyplot as plt\n",
    "import scipy.stats as stats"
   ]
  },
  {
   "cell_type": "markdown",
   "metadata": {},
   "source": [
    "# Exercise 6.1 (Bayesian Inference with SNIS)\n",
    "\n",
    "In this exercise, we will use our toy Gaussian model to perform Bayesian inference. We will use the same model as in **Example 3.6**. Recall that this model is given as:\n",
    "\n",
    "- `p(x) = N(x; mu_0, sigma_0^2)`\n",
    "- `p(y_i | x) = N(y_i; x, sigma^2)`\n",
    "\n",
    "where `i = 1, ..., M`, i.e., `y_i` are conditionally independent given `x`.\n",
    "\n",
    "In the first implementation of this exercise, you can set `mu_0 = 0`, `sigma^2 = 1`, and `sigma_0^2 = 1`, but you should also explore other parameters to gain intuition.\n",
    "\n",
    "### Instructions\n",
    "\n",
    "1. **Simulate Data**  \n",
    "   - Simulate `M = 1000` data points from this model.  \n",
    "   - Perform `X ~ p(x)` and then fix the sample `X = x`.  \n",
    "   - For `i = 1, ..., M`, sample `y_i ~ p(y_i | x)`.\n"
   ]
  },
  {
   "cell_type": "code",
   "execution_count": 5,
   "metadata": {},
   "outputs": [
    {
     "data": {
      "text/plain": [
       "array([ 0.34907432, -0.17755834, -1.92252678,  0.37275506,  1.2814085 ,\n",
       "        1.3973744 , -0.18215838,  2.58340351,  2.29773166,  0.12581353])"
      ]
     },
     "execution_count": 5,
     "metadata": {},
     "output_type": "execute_result"
    }
   ],
   "source": [
    "N = 1000\n",
    "mu_0 = 0\n",
    "sigma_0, sigma = 1, 1\n",
    "\n",
    "rng = np.random.default_rng(25)\n",
    "x = rng.normal(mu_0, sigma_0)\n",
    "y = rng.normal(x, sigma, N)\n",
    "y[0:10]"
   ]
  },
  {
   "cell_type": "markdown",
   "metadata": {},
   "source": [
    "2. For these particular datapoints, compute the true posterior mean estimate using the\n",
    "expression `µp` in Example 3.6. This is the true posterior mean estimate for this model."
   ]
  },
  {
   "cell_type": "code",
   "execution_count": 4,
   "metadata": {},
   "outputs": [
    {
     "data": {
      "text/plain": [
       "0.3938362645431516"
      ]
     },
     "execution_count": 4,
     "metadata": {},
     "output_type": "execute_result"
    }
   ],
   "source": [
    "mean = (sigma_0**2 * np.sum(y) + sigma**2 * mu_0) / (sigma_0**2 * N + sigma**2)\n",
    "mean"
   ]
  },
  {
   "cell_type": "markdown",
   "metadata": {},
   "source": [
    "3. Estimating the Posterior Mean with SNIS\n",
    "\n",
    "Now we will use Self-Normalized Importance Sampling (SNIS) to estimate the posterior mean. For this, we will use the following proposal distribution:\n",
    "\n",
    "- `q(x) = N(x; mu_q, sigma_q^2)`\n",
    "\n",
    "In the first implementation, you can set `mu_q = 0` and `sigma_q^2 = 1`, but you should also explore other parameters to gain intuition.\n",
    "\n",
    "### Instructions\n",
    "\n",
    "1. **Implement the SNIS Estimator**  \n",
    "   - Note that the unnormalized posterior is given by:  \n",
    "     ```\n",
    "     p_bar(x | y1:n) = p(y1:n | x) * p(x) = (Product from i=1 to M of p(y_i | x)) * p(x)\n",
    "     ```\n",
    "     as described in Exercise 3.6.  \n",
    "\n",
    "2. **Compute Weights in the Log-Domain**  \n",
    "   - Implement the SNIS estimator for this model.  \n",
    "   - Compute the weights both without using the log-trick and with the log-trick.\n",
    "\n",
    "3. **Compare the Results**  \n",
    "   - Compare the posterior mean estimates obtained using the two methods.  \n",
    "   - Observe that the log-trick is necessary to handle numerical stability in this model.\n"
   ]
  },
  {
   "cell_type": "code",
   "execution_count": 8,
   "metadata": {},
   "outputs": [
    {
     "name": "stdout",
     "output_type": "stream",
     "text": [
      "Mean estimate (stable):  -0.014113945129087459\n",
      "ESS:  425.4565324581858\n",
      "Mean estimate (unstable):  nan\n",
      "ESS (unstable):  nan\n"
     ]
    },
    {
     "name": "stderr",
     "output_type": "stream",
     "text": [
      "/tmp/ipykernel_2281/3132102560.py:35: RuntimeWarning: invalid value encountered in divide\n",
      "  w2 = np.exp(logW)/np.sum(np.exp(logW)) # weights without logtrick\n"
     ]
    }
   ],
   "source": [
    "# define log prior\n",
    "def logp(x):\n",
    "    return -x**2/2 - np.log(np.sqrt(2*np.pi))\n",
    "\n",
    "# define log likelihood\n",
    "def loglik(x, y):\n",
    "    return -(x-y)**2/2 - np.log(np.sqrt(2*np.pi))\n",
    "\n",
    "# define log proposal\n",
    "def logq(x):\n",
    "    return -x**2/2 - np.log(np.sqrt(2*np.pi))\n",
    "\n",
    "def ESS(w):\n",
    "    return 1/np.sum(w**2)\n",
    "\n",
    "N = 10000\n",
    "\n",
    "x = rng.normal(0, 1, N) # sample from q(x)\n",
    "\n",
    "logW = np.zeros(N)\n",
    "for i in range(N):\n",
    "    logW[i] = np.sum(loglik(x[i], y)) + logp(x[i]) - logq(x[i])\n",
    "\n",
    "log_hat_W = logW - np.max(logW)\n",
    "\n",
    "def ws(N):\n",
    "    x = rng.normal(0, 1, N) # sample from q(x)\n",
    "    logW = np.zeros(N)\n",
    "    for i in range(N):\n",
    "        logW[i] = np.sum(loglik(x[i], y)) + logp(x[i]) - logq(x[i])\n",
    "    log_hat_W = logW - np.max(logW)\n",
    "    return np.exp( log_hat_W )/np.sum(np.exp( log_hat_W )) # weights with log-trick\n",
    "\n",
    "w = ws(N) # weights with log-trick\n",
    "w2 = np.exp(logW)/np.sum(np.exp(logW)) # weights without logtrick\n",
    "\n",
    "\n",
    "# mean estimate\n",
    "mean = np.sum(w*x)\n",
    "mean2 = np.sum(w2*x)\n",
    "\n",
    "print(\"Mean estimate (stable): \", mean)\n",
    "print(\"ESS: \", ESS(w))\n",
    "print(\"Mean estimate (unstable): \", mean2)\n",
    "print(\"ESS (unstable): \", ESS(w2))"
   ]
  },
  {
   "cell_type": "markdown",
   "metadata": {},
   "source": [
    "4. Finally compute effective sample size (ESS) and vary your N to see how it affects the\n",
    "ESS. Plot the ESS w.r.t. N."
   ]
  },
  {
   "cell_type": "code",
   "execution_count": 17,
   "metadata": {},
   "outputs": [
    {
     "data": {
      "text/plain": [
       "[<matplotlib.lines.Line2D at 0x7f6031a2ea70>]"
      ]
     },
     "execution_count": 17,
     "metadata": {},
     "output_type": "execute_result"
    },
    {
     "data": {
      "image/png": "[encoded data removed]",
      "text/plain": [
       "<Figure size 640x480 with 1 Axes>"
      ]
     },
     "metadata": {},
     "output_type": "display_data"
    }
   ],
   "source": [
    "ess = np.zeros(100)\n",
    "for i in range(1, 50):\n",
    "    ess[i] = ESS(ws(100 * i))\n",
    "\n",
    "plt.plot(ess)"
   ]
  }
 ],
 "metadata": {
  "kernelspec": {
   "display_name": "Python 3",
   "language": "python",
   "name": "python3"
  },
  "language_info": {
   "codemirror_mode": {
    "name": "ipython",
    "version": 3
   },
   "file_extension": ".py",
   "mimetype": "text/x-python",
   "name": "python",
   "nbconvert_exporter": "python",
   "pygments_lexer": "ipython3",
   "version": "3.10.12"
  }
 },
 "nbformat": 4,
 "nbformat_minor": 2
}
