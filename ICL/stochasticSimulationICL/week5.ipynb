{
 "cells": [
  {
   "cell_type": "code",
   "execution_count": null,
   "metadata": {},
   "outputs": [],
   "source": [
    "import numpy as np"
   ]
  },
  {
   "cell_type": "markdown",
   "metadata": {},
   "source": [
    "### Exercise 1\n",
    "Implement the importance sampling method for estimating1\n",
    "P(X > 4),\n",
    "where X ∼ N (0, 1).\n",
    "Compute the naive Monte Carlo and IS with N(6, 1). Why is the latter better?"
   ]
  },
  {
   "cell_type": "code",
   "execution_count": 11,
   "metadata": {},
   "outputs": [
    {
     "name": "stdout",
     "output_type": "stream",
     "text": [
      "Integral of p(x) from 4 to infinity:  3.16712429751607e-05\n",
      "Monte Carlo estimate:  0.0\n",
      "Importance sampling estimate:  2.77232288121388e-05\n"
     ]
    }
   ],
   "source": [
    "import numpy as np\n",
    "import matplotlib .pyplot as plt\n",
    "xx = np.linspace(4, 20 , 100000)\n",
    "def p(x):\n",
    "    return np.exp(-x**2/2)/np.sqrt(2*np.pi)\n",
    "\n",
    "def q(x, mu , sigma):\n",
    "    return np.exp(-(x-mu)**2/(2*sigma **2))/(np.sqrt(2*np.pi)*sigma)\n",
    "\n",
    "def w(x, mu , sigma):\n",
    "    return p(x)/q(x, mu , sigma)\n",
    "\n",
    "# ---------------- Integral ----------------\n",
    "I = np.trapz(p(xx), xx) # Numerical computation of the integral\n",
    "print('Integral of p(x) from 4 to infinity: ', I)\n",
    "\n",
    "# ---------------- Monte Carlo / Rejection sampling ----------------\n",
    "N = 10000\n",
    "x = np.random.normal(0, 1, N) # iid samples from p(x)\n",
    "I_est_MC = (1/N) * np.sum(x > 4) # It rejects a lot of samples as the tail is very small\n",
    "print('Monte Carlo estimate: ', I_est_MC)\n",
    "\n",
    "# ---------------- Importance sampling ----------------\n",
    "# Using N(6,1) as the proposal distribution as it will draw more samples from the tail\n",
    "mu = 6\n",
    "sigma = 1\n",
    "x_s = np.zeros(N)\n",
    "weights = np.zeros(N)\n",
    "for i in range(N):\n",
    "    x_s[i] = np.random.normal(mu , sigma , 1)\n",
    "    weights[i] = w(x_s[i], mu , sigma)\n",
    "\n",
    "I_est_IS = (1/N) * np.sum(weights * (x_s > 4))\n",
    "print('Importance sampling estimate: ', I_est_IS)\n"
   ]
  },
  {
   "cell_type": "markdown",
   "metadata": {},
   "source": [
    "### Exercise 5\n",
    "Exercise 5.5. Consider a computed log-weight vector\n",
    "`logW = [1000 , 1001 , 999 , 1002 , 950]`\n",
    "These are computed log-weights which are, for various reasons, often the only available\n",
    "quantities in practice (people implement quadratics, rather than Gaussians, for example).\n",
    "1. Implement the naive normalisation procedure\n",
    "\n",
    "2. Implement the trick introduced in Sec. 4.4.1 in lecture notes and verify that the latter\n",
    "computation is stable."
   ]
  },
  {
   "cell_type": "code",
   "execution_count": 13,
   "metadata": {},
   "outputs": [
    {
     "name": "stdout",
     "output_type": "stream",
     "text": [
      "Naive estimate:  [nan nan nan nan nan]\n",
      "Trick estimate:  [8.71443187e-02 2.36882818e-01 3.20586033e-02 6.43914260e-01\n",
      " 1.68079592e-23]\n"
     ]
    },
    {
     "name": "stderr",
     "output_type": "stream",
     "text": [
      "/tmp/ipykernel_2106/623436343.py:4: RuntimeWarning: overflow encountered in exp\n",
      "  naive_weights = np.exp(logW) / np.sum(np.exp(logW))\n",
      "/tmp/ipykernel_2106/623436343.py:4: RuntimeWarning: invalid value encountered in divide\n",
      "  naive_weights = np.exp(logW) / np.sum(np.exp(logW))\n"
     ]
    }
   ],
   "source": [
    "logW = [1000 , 1001 , 999 , 1002 , 950]\n",
    "\n",
    "# ---------------- Naive ----------------\n",
    "naive_weights = np.exp(logW) / np.sum(np.exp(logW))\n",
    "print('Naive estimate: ', naive_weights)\n",
    "\n",
    "# ---------------- Trick ----------------\n",
    "trick_weights = np.exp(logW - np.max(logW)) / np.sum(np.exp(logW - np.max(logW)))\n",
    "print('Trick estimate: ', trick_weights)"
   ]
  }
 ],
 "metadata": {
  "kernelspec": {
   "display_name": "Python 3",
   "language": "python",
   "name": "python3"
  },
  "language_info": {
   "codemirror_mode": {
    "name": "ipython",
    "version": 3
   },
   "file_extension": ".py",
   "mimetype": "text/x-python",
   "name": "python",
   "nbconvert_exporter": "python",
   "pygments_lexer": "ipython3",
   "version": "3.10.12"
  }
 },
 "nbformat": 4,
 "nbformat_minor": 2
}
